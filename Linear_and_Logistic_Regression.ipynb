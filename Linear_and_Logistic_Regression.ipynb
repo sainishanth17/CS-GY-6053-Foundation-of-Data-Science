{
 "cells": [
  {
   "cell_type": "markdown",
   "metadata": {
    "id": "UVi0YPMvUjwg"
   },
   "source": [
    "# **Foundations of Data Science Fall 2022 - Homework 1 (32 points)**\n",
    "\n",
    "### Student Name: Sai Nishanth Mettu\n",
    "### Student Net Id: sm11326\n",
    "\n",
    "---\n",
    "\n"
   ]
  },
  {
   "cell_type": "markdown",
   "metadata": {
    "id": "ie52W18UUlMB"
   },
   "source": [
    "### **Part 0: Data Exploration and Linear Regression (5 Points)**\n",
    "\n",
    "---\n"
   ]
  },
  {
   "cell_type": "markdown",
   "metadata": {
    "id": "uUBNYxVIjh4X"
   },
   "source": [
    "Background: This problem focuses on an ECG dataset that contains voltage measurements from a number of points on the scalp. A common task is to estimate which parts of the brain caused the measured response, which can help identify which parts of the brain are involved in specific tasks. However, the number of possible locations in the brain is much larger than the number of measurements, which makes this an appropriate task to assess the use of regularization to determine the brain region that is active under stimulus.\n"
   ]
  },
  {
   "cell_type": "code",
   "execution_count": 1,
   "metadata": {
    "id": "gC9WIPo7U3JD"
   },
   "outputs": [],
   "source": [
    "# Importing all important packages\n",
    "\n",
    "import numpy as np\n",
    "import pandas as pd\n",
    "import matplotlib.pyplot as plt\n",
    "\n",
    "from sklearn.linear_model import Lasso, Ridge\n",
    "from sklearn.metrics import r2_score\n",
    "from sklearn.model_selection import train_test_split"
   ]
  },
  {
   "cell_type": "code",
   "execution_count": 2,
   "metadata": {
    "colab": {
     "base_uri": "https://localhost:8080/"
    },
    "id": "PkPvRr0a-Sr8",
    "outputId": "6311cb75-32fe-4c7c-83f6-2d6d6286b039"
   },
   "outputs": [
    {
     "name": "stdout",
     "output_type": "stream",
     "text": [
      "File eeg_dat.p is already downloaded\n"
     ]
    }
   ],
   "source": [
    "# Downloading data\n",
    "\n",
    "fn_src ='https://drive.google.com/uc?export=download&id=1RzQpKONOcXSMxH2ZzOI4iVMiTgD6ttSl'\n",
    "fn_dst ='eeg_dat.p'\n",
    "\n",
    "import os\n",
    "from six.moves import urllib\n",
    "\n",
    "if os.path.isfile(fn_dst):\n",
    "    print('File %s is already downloaded' % fn_dst)\n",
    "else:\n",
    "    print('Fetching file %s [53MB].  This may take a minute..' % fn_dst)\n",
    "    urllib.request.urlretrieve(fn_src, fn_dst)\n",
    "    print('File %s downloaded' % fn_dst)"
   ]
  },
  {
   "cell_type": "code",
   "execution_count": 3,
   "metadata": {
    "id": "zu_NFpHx-ZPh"
   },
   "outputs": [],
   "source": [
    "# Loading data\n",
    "\n",
    "import pickle\n",
    "fn = 'eeg_dat.p'\n",
    "with open(fn, 'rb') as fp:\n",
    "    [X,Y] = pickle.load(fp)"
   ]
  },
  {
   "cell_type": "markdown",
   "metadata": {
    "id": "CtBimafqe5GH"
   },
   "source": [
    ">>**1**\\. **(1 Point)** *Display the first 5 rows of X and Y and print the dimensions for both datasets*\n",
    "\n"
   ]
  },
  {
   "cell_type": "code",
   "execution_count": 4,
   "metadata": {
    "id": "umxMgyXsU7Tw"
   },
   "outputs": [
    {
     "name": "stdout",
     "output_type": "stream",
     "text": [
      "[[ 0.          0.          0.         ...  0.          0.\n",
      "   0.        ]\n",
      " [ 0.          0.          0.         ...  0.          0.\n",
      "   0.        ]\n",
      " [ 0.          0.          0.         ...  0.          0.\n",
      "   0.        ]\n",
      " [-0.00529827  0.00491268  0.00598048 ...  0.00162549 -0.0023215\n",
      "   0.00115952]\n",
      " [-0.01522969  0.00059051 -0.00191475 ...  0.00331738 -0.00214887\n",
      "   0.00160143]]\n",
      "[[ 0.          0.          0.          0.          0.          0.\n",
      "   0.          0.          0.          0.          0.          0.\n",
      "   0.          0.          0.          0.          0.          0.\n",
      "   0.          0.          0.          0.          0.          0.\n",
      "   0.          0.          0.          0.          0.          0.\n",
      "   0.          0.          0.          0.          0.          0.\n",
      "   0.          0.          0.          0.          0.          0.\n",
      "   0.          0.          0.          0.          0.          0.\n",
      "   0.          0.          0.          0.          0.          0.\n",
      "   0.          0.          0.          0.          0.          0.\n",
      "   0.          0.          0.          0.          0.          0.\n",
      "   0.          0.          0.          0.          0.          0.\n",
      "   0.          0.          0.          0.          0.          0.\n",
      "   0.          0.          0.          0.          0.          0.\n",
      "   0.        ]\n",
      " [ 0.          0.          0.          0.          0.          0.\n",
      "   0.          0.          0.          0.          0.          0.\n",
      "   0.          0.          0.          0.          0.          0.\n",
      "   0.          0.          0.          0.          0.          0.\n",
      "   0.          0.          0.          0.          0.          0.\n",
      "   0.          0.          0.          0.          0.          0.\n",
      "   0.          0.          0.          0.          0.          0.\n",
      "   0.          0.          0.          0.          0.          0.\n",
      "   0.          0.          0.          0.          0.          0.\n",
      "   0.          0.          0.          0.          0.          0.\n",
      "   0.          0.          0.          0.          0.          0.\n",
      "   0.          0.          0.          0.          0.          0.\n",
      "   0.          0.          0.          0.          0.          0.\n",
      "   0.          0.          0.          0.          0.          0.\n",
      "   0.        ]\n",
      " [ 0.          0.          0.          0.          0.          0.\n",
      "   0.          0.          0.          0.          0.          0.\n",
      "   0.          0.          0.          0.          0.          0.\n",
      "   0.          0.          0.          0.          0.          0.\n",
      "   0.          0.          0.          0.          0.          0.\n",
      "   0.          0.          0.          0.          0.          0.\n",
      "   0.          0.          0.          0.          0.          0.\n",
      "   0.          0.          0.          0.          0.          0.\n",
      "   0.          0.          0.          0.          0.          0.\n",
      "   0.          0.          0.          0.          0.          0.\n",
      "   0.          0.          0.          0.          0.          0.\n",
      "   0.          0.          0.          0.          0.          0.\n",
      "   0.          0.          0.          0.          0.          0.\n",
      "   0.          0.          0.          0.          0.          0.\n",
      "   0.        ]\n",
      " [-0.09276205 -0.08985079 -0.07608291 -0.05530946 -0.03231258 -0.01211071\n",
      "   0.00080852  0.00313692 -0.00678247 -0.02869592 -0.06052095 -0.09864336\n",
      "  -0.1384954  -0.17518806 -0.20431671 -0.22255981 -0.22819203 -0.22131916\n",
      "  -0.20387241 -0.17923614 -0.15177045 -0.12609152 -0.1063793  -0.09570701\n",
      "  -0.09557988 -0.10568318 -0.12395217 -0.14689077 -0.17011059 -0.18902799\n",
      "  -0.19959717 -0.19891403 -0.1857485  -0.16069391 -0.12614103 -0.08592358\n",
      "  -0.04474724 -0.00750158  0.02150801  0.0391705   0.04407476  0.03669187\n",
      "   0.01933823 -0.00419942 -0.02922969 -0.05085636 -0.06472243 -0.06767898\n",
      "  -0.05825114 -0.0368678  -0.00578963  0.03120213  0.06941139  0.10389435\n",
      "   0.13022606  0.14516165  0.14714178  0.13655022  0.11566809  0.0883866\n",
      "   0.05964747  0.03476927  0.01866437  0.01515595  0.02640921  0.05260544\n",
      "   0.09186162  0.14047642  0.19336142  0.24469149  0.28863894  0.32010343\n",
      "   0.33535487  0.33248343  0.31159913  0.27481392  0.225944    0.17002921\n",
      "   0.11269917  0.05947506  0.01514124 -0.01681553 -0.03456445 -0.0380913\n",
      "  -0.0291009 ]\n",
      " [ 0.01241803 -0.00569839 -0.02801367 -0.05359459 -0.08104797 -0.10851966\n",
      "  -0.13379319 -0.15448279 -0.16826742 -0.17320027 -0.16799938 -0.15227921\n",
      "  -0.12673569 -0.09313222 -0.05422283 -0.01347576  0.02528186  0.05832127\n",
      "   0.08244709  0.09545931  0.09641075  0.08583552  0.0656907   0.03920295\n",
      "   0.01049631 -0.01589401 -0.03554677 -0.04473862 -0.04091731 -0.0230484\n",
      "   0.00821874  0.05053668  0.10010532  0.15206901  0.2010497   0.24171443\n",
      "   0.26942073  0.28069672  0.2736623   0.24824396  0.20617207  0.15082053\n",
      "   0.08683377  0.01960157 -0.04528859 -0.10268976 -0.14839354 -0.17960091\n",
      "  -0.19515903 -0.1956481  -0.18327567 -0.16156722 -0.13492094 -0.10808104\n",
      "  -0.08557384 -0.07114955 -0.06736727 -0.07527035 -0.0942851  -0.12226838\n",
      "  -0.15576918 -0.19040635 -0.22139751 -0.24410465 -0.25457232 -0.25000458\n",
      "  -0.22908469 -0.19217531 -0.14128675 -0.07991302 -0.01264023  0.05527446\n",
      "   0.11845781  0.1719523   0.21171481  0.23496873  0.24047115  0.22856528\n",
      "   0.20111359  0.16122806  0.11293382  0.06073957  0.00915674 -0.03771494\n",
      "  -0.0765598 ]]\n",
      "(305, 22494)\n",
      "(305, 85)\n"
     ]
    }
   ],
   "source": [
    "print(X[:5,:])\n",
    "print(Y[:5,:])\n",
    "print(X.shape)\n",
    "print(Y.shape)"
   ]
  },
  {
   "cell_type": "markdown",
   "metadata": {
    "id": "hiJpfr8MgBb1"
   },
   "source": [
    "\n",
    "Note that there are three key variables:\n",
    "* `nt`    = number of time steps that we measure data\n",
    "* `nchan` = number of channels (i.e. electrodes) measured in each time step\n",
    "* `ncur`  = number of currents in the brain that we want to estimate.  \n",
    "\n",
    "Each current comes from one brain region (called a *voxel*) in either the `x`, `y` or `z` direction.  So,\n",
    "\n",
    "    nvoxels = ncur / 3\n",
    "    \n",
    "The components of the `X` and `Y` matrices are:\n",
    "*  `Y[i,k]` = electric field measurement on channel `i` at time `k`\n",
    "*  `X[i,j]` = sensitivity of channel `i` to current `j`.\n",
    "\n"
   ]
  },
  {
   "cell_type": "markdown",
   "metadata": {
    "id": "yDZtFIjTfxmW"
   },
   "source": [
    ">>**2**\\. **(1 Point)** Split the data into training and testing. What split do you use, and why?"
   ]
  },
  {
   "cell_type": "markdown",
   "metadata": {
    "id": "WJF7n_tBy4Uv"
   },
   "source": [
    ">> I have used the 70-30 split where my test_size is 0.3, i.e. where 70% of the data is allocated to the training set and 30% to the testing set. A reason for this would be to allocate sufficient data for training as having a larger training set can help the model capture underlying patterns and relationships, but we also get a reasonable evaluation size where 30% of the data will be reserved for testing, dedicated to evaluating your model's performance. We also need to have an independent dataset that the model has not been trained upon to serve as a test dataset, to detect whether the model is overfitting or not. Generally while developing a new model, it isnt necessary that the Data Scientist will have sufficient testing data to test the model, hence splitting a chunk of the data aids in testing the model's performance internally by the Data Scientist.\n"
   ]
  },
  {
   "cell_type": "code",
   "execution_count": 5,
   "metadata": {
    "id": "JOo5tg-7gD_z"
   },
   "outputs": [
    {
     "name": "stdout",
     "output_type": "stream",
     "text": [
      "(213, 85)\n",
      "(213, 22494)\n",
      "(92, 85)\n",
      "(92, 22494)\n"
     ]
    }
   ],
   "source": [
    "x_train,x_test,y_train,y_test =train_test_split(X,Y,test_size=0.3,random_state=0)\n",
    "\n",
    "print(y_train.shape)\n",
    "print(x_train.shape)\n",
    "print(y_test.shape)\n",
    "print(x_test.shape)\n",
    "\n"
   ]
  },
  {
   "cell_type": "markdown",
   "metadata": {
    "id": "CKEkzFqKzPFJ"
   },
   "source": [
    ">>**3**\\. **(3 Points)** Perform linear regression. As a reminder, the optimization for linear regression using ordinary least squares is written below, the data consists of $n$ observations {$x_i$,$y_i$}. Each observation $i$ includes a scalar response $y_i$ and a column vector $x_i$ of $p$ variables (regressors).\n",
    "\n",
    ">>The evaluation metric used for linear regression is the $R^2$ score. Explain what $R^2$ tells us, and interpret your results based on this.*\n",
    "\n"
   ]
  },
  {
   "cell_type": "markdown",
   "metadata": {
    "id": "LvFX8XmAQVev"
   },
   "source": [
    "\\begin{align}\n",
    "\\text{Ordinary Least Squares}\n",
    "\\end{align}\n",
    "\n",
    "\n",
    "\n",
    " \\begin{align}\n",
    "        \\underset{\\beta}{\\operatorname{arg min}}\n",
    "        \\left[\\sum_{i=1}^n \\left( y_i - β_o - \\sum_{j=1}^p β_jx_{ij}  \\right)^2  \\right]\n",
    "    \\end{align}\n",
    "\n"
   ]
  },
  {
   "cell_type": "code",
   "execution_count": 6,
   "metadata": {
    "id": "FrUITWlpzOfs"
   },
   "outputs": [
    {
     "name": "stdout",
     "output_type": "stream",
     "text": [
      "Intercept: [ 1.08550322e-15  1.05124243e-15  8.56953397e-16  1.04083409e-15\n",
      "  6.66675916e-16  5.43835810e-16  1.52655666e-16  2.16840434e-16\n",
      "  1.56125113e-16 -3.95516953e-16 -2.04697370e-16 -4.40619763e-16\n",
      " -2.04697370e-16 -1.73472348e-16 -2.32452946e-16 -5.62050406e-16\n",
      " -3.95516953e-16 -4.40619763e-16 -6.07153217e-16 -4.57966998e-16\n",
      " -7.70217223e-16 -7.70217223e-16 -6.31439345e-16 -1.18308141e-15\n",
      " -1.13797860e-15 -8.39606162e-16 -9.36750677e-16 -5.13478149e-16\n",
      " -1.22991894e-15 -1.05861500e-15 -8.39606162e-16 -4.33680869e-16\n",
      " -3.26128013e-16 -4.47558657e-16  2.08166817e-16  2.28983499e-16\n",
      " -2.08166817e-16 -1.66533454e-16 -9.22872889e-16 -9.36750677e-16\n",
      " -7.94503352e-16 -9.12464548e-16 -7.18175519e-16 -1.13277443e-15\n",
      " -9.46291656e-16 -8.53483950e-16 -4.75314232e-16 -6.96491476e-16\n",
      " -5.84601811e-16  1.99493200e-16  7.97972799e-17  2.11636264e-16\n",
      "  5.55111512e-17 -5.89805982e-17 -2.77555756e-16 -1.66533454e-16\n",
      " -9.36750677e-17 -2.32452946e-16 -1.28369537e-16 -1.21430643e-17\n",
      " -2.01227923e-16 -1.43114687e-16  2.07949977e-16  2.26815094e-16\n",
      "  1.79543880e-16  1.11889664e-15  6.03683770e-16  5.48172618e-16\n",
      "  9.48893741e-16  9.33281230e-16  4.97865638e-16  9.36750677e-16\n",
      "  9.81853487e-16  5.62050406e-16  5.46437895e-16  3.47812057e-16\n",
      "  4.72712147e-16  5.57713598e-16  5.00901404e-16  6.82613688e-16\n",
      "  5.66820896e-16  2.19442520e-16  2.04697370e-16  5.02202446e-16\n",
      "  3.62557206e-16]\n",
      "\n",
      "Coefficients: [[-3.09384779e+00  4.32472862e+00  1.93625381e+00 ... -4.60300246e-02\n",
      "   4.73452627e-01 -9.27178126e-02]\n",
      " [-1.64111143e+00  3.66498179e+00  1.97163239e+00 ... -3.87582582e-02\n",
      "   4.98142353e-01 -4.23399759e-02]\n",
      " [-2.10869975e-01  3.01039201e+00  2.00947302e+00 ... -2.39906631e-02\n",
      "   5.10568798e-01  1.22526675e-02]\n",
      " ...\n",
      " [ 6.38114474e+00 -6.38260079e-01  1.57716318e+00 ...  1.09252699e-01\n",
      "   1.98233736e-01  4.78156175e-02]\n",
      " [ 6.25059979e+00 -7.51358120e-01  1.50342716e+00 ...  1.48395465e-01\n",
      "   2.08287593e-01  2.58625054e-02]\n",
      " [ 5.88945507e+00 -7.85185765e-01  1.35093978e+00 ...  1.81471143e-01\n",
      "   2.10076117e-01  2.85085803e-03]]\n",
      "\n",
      "R2-Squared score for training-set:1.0\n",
      "\n",
      "R2-Squared score for testing-set: -5.604353519893513\n",
      "\n"
     ]
    }
   ],
   "source": [
    "import numpy as np\n",
    "from sklearn.linear_model import LinearRegression\n",
    "from sklearn.metrics import r2_score\n",
    "from sklearn.model_selection import train_test_split\n",
    "from sklearn.preprocessing import StandardScaler\n",
    "\n",
    "\n",
    "X_train, X_test, Y_train, Y_test = train_test_split(X, Y, test_size=0.3, random_state=42)\n",
    "\n",
    "\n",
    "model = LinearRegression()\n",
    "model.fit(X_train, Y_train)\n",
    "beta0 = model.intercept_\n",
    "coefficients = model.coef_\n",
    "Y_train_pred = model.predict(X_train)\n",
    "Y_test_pred = model.predict(X_test)\n",
    "r2_train = r2_score(Y_train, Y_train_pred)\n",
    "r2_test = r2_score(Y_test, Y_test_pred)\n",
    "\n",
    "print(f\"Intercept: {beta0}\\n\")\n",
    "print(f\"Coefficients: {coefficients}\\n\")\n",
    "print(f\"R2-Squared score for training-set:{r2_train}\\n\")\n",
    "print(f\"R2-Squared score for testing-set: {r2_test}\\n\")"
   ]
  },
  {
   "cell_type": "markdown",
   "metadata": {
    "id": "vMtUeI0FzS8B"
   },
   "source": [
    "The **R-squared (R² - Coefficient of Determination)** in linear regression measures how well the regression model fits the data. It tells us the proportion of the variability in the dependent variable (the target) that is explained by the independent variables (features or predictors) in the model. If R² = 0: The model doesn't explain any of the variability in the dependent variable. If R² = 1: The model perfectly explains all the variability in the dependent variable. In our results, if you have a positive R² close to 1, it means your model is a good fit for the data, and a significant portion of the variability in the dependent variable is explained by your model. However, if R² is negative, it suggests that your model doesn't fit the data well, and it may be necessary to revise the model or the data preprocessing steps. \n",
    "\n",
    "**Here R squared score for training set is 1.0  which indicates high overfitting and The R2-squared score for the testing set is less than -5, it is in negative which means the model is not a great fit (under-fit) and it will most likely under-fit for other test-sets as well.**"
   ]
  },
  {
   "cell_type": "markdown",
   "metadata": {
    "id": "Nk4QVvQPUlJl"
   },
   "source": [
    "### **Part 1: Ridge Regularization (10 Points)**\n",
    "\n",
    "---\n"
   ]
  },
  {
   "cell_type": "markdown",
   "metadata": {
    "id": "GNXMw5bCndxQ"
   },
   "source": [
    ">>**1**\\. **(1 Point)** *Now we will use ridge regression, a model tuning method that can be used on data that suffers from multicollinearity. Notice the regularization term added to the optimization below, which uses the squared value of $β$. It is also known as L2 regularization. Regularizations are techniques used to reduce the error by fitting a function appropriately on the given training set and avoid overfitting. First, what is the degree of collinearity in the data? Show your work and give rationale for the degree of collinearity.*\n"
   ]
  },
  {
   "cell_type": "markdown",
   "metadata": {
    "id": "DEjwWVrrRKGs"
   },
   "source": [
    "\\begin{align}\n",
    "\\text{Ridge Regression}\n",
    "\\end{align}\n",
    "\n",
    "\n",
    " \\begin{align}\n",
    "        \\underset{\\beta}{\\operatorname{arg min}}\n",
    "        \\left[\\sum_{i=1}^n \\left( y_i - βo - \\sum_{j=1}^p β_jx_{ij}  \\right)^2 + λ\\sum_{j=1}^p|β_j|^2  \\right]\n",
    "    \\end{align}\n"
   ]
  },
  {
   "cell_type": "code",
   "execution_count": 7,
   "metadata": {
    "id": "j2C9lClOz1A1"
   },
   "outputs": [
    {
     "name": "stdout",
     "output_type": "stream",
     "text": [
      "Alpha Value : \n",
      " 1.0\n",
      "Intercepts after using Ridge regularization: [ 8.34407805e-03  9.68080525e-03  1.01429614e-02  9.56000272e-03\n",
      "  7.88746649e-03  5.22078131e-03  1.78887799e-03 -2.07322719e-03\n",
      " -5.96835452e-03 -9.49100550e-03 -1.22858221e-02 -1.40980323e-02\n",
      " -1.48122890e-02 -1.44697133e-02 -1.32636800e-02 -1.15111059e-02\n",
      " -9.60540394e-03 -7.95656581e-03 -6.92738406e-03 -6.77490792e-03\n",
      " -7.60710601e-03 -9.36050662e-03 -1.18030176e-02 -1.45627154e-02\n",
      " -1.71783093e-02 -1.91643426e-02 -2.00827382e-02 -1.96097646e-02\n",
      " -1.75888704e-02 -1.40609881e-02 -9.26896414e-03 -3.63292958e-03\n",
      "  2.29840306e-03  7.91502751e-03  1.26230984e-02  1.59201296e-02\n",
      "  1.74598926e-02  1.70970190e-02  1.49050762e-02  1.11677511e-02\n",
      "  6.34234574e-03  1.00196650e-03 -4.23441702e-03 -8.77770195e-03\n",
      " -1.21371990e-02 -1.39746054e-02 -1.41375654e-02 -1.26683600e-02\n",
      " -9.78874010e-03 -5.86335991e-03 -1.34892575e-03  3.26489581e-03\n",
      "  7.51339866e-03  1.10071110e-02  1.34678599e-02  1.47486156e-02\n",
      "  1.48350881e-02  1.38311458e-02  1.19326243e-02  9.39331301e-03\n",
      "  6.48942072e-03  3.48793878e-03  6.20561360e-04 -1.93177990e-03\n",
      " -4.04554115e-03 -5.65312485e-03 -6.73447349e-03 -7.30675852e-03\n",
      " -7.41284381e-03 -7.11169205e-03 -6.47309358e-03 -5.57384551e-03\n",
      " -4.49812074e-03 -3.33716208e-03 -2.18911822e-03 -1.15627183e-03\n",
      " -3.37678958e-04  1.79159645e-04  3.30519415e-04  8.73619772e-05\n",
      " -5.35530303e-04 -1.47642985e-03 -2.62924935e-03 -3.85415712e-03\n",
      " -4.99529566e-03]\n",
      "\n",
      "Coefficients after using Ridge regularization: [[ 0.02674694  0.02765046  0.02750294 ...  0.02783582  0.02276558\n",
      "   0.01704959]\n",
      " [-0.02390871 -0.02508114 -0.02536881 ... -0.01473693 -0.01274869\n",
      "  -0.01088026]\n",
      " [-0.03050786 -0.03188372 -0.03221716 ... -0.01918914 -0.01689335\n",
      "  -0.0148018 ]\n",
      " ...\n",
      " [ 0.00156384  0.00120878  0.00077631 ...  0.00563397  0.00535564\n",
      "   0.0050142 ]\n",
      " [ 0.00036361  0.00061214  0.00097107 ... -0.00575079 -0.00525241\n",
      "  -0.0046013 ]\n",
      " [-0.00408405 -0.0041122  -0.00424281 ... -0.00283293 -0.00309462\n",
      "  -0.00348473]]\n",
      "\n",
      "\n",
      "Finding coveriance_matrix\n",
      " [[ 3.34520613e-04 -2.09349894e-05  5.72171172e-06 ... -1.30145438e-06\n",
      "   1.02676268e-06 -9.01167828e-08]\n",
      " [-2.09349894e-05  9.00716502e-05  1.19190454e-04 ... -4.09325082e-08\n",
      "   6.00653112e-07 -1.14780821e-06]\n",
      " [ 5.72171172e-06  1.19190454e-04  1.61601109e-04 ... -2.77168074e-07\n",
      "   8.13956649e-07 -1.35956064e-06]\n",
      " ...\n",
      " [-1.30145438e-06 -4.09325082e-08 -2.77168074e-07 ...  3.26523741e-05\n",
      "  -2.81495610e-05 -1.08652917e-05]\n",
      " [ 1.02676268e-06  6.00653112e-07  8.13956649e-07 ... -2.81495610e-05\n",
      "   3.15375856e-05 -8.66729253e-06]\n",
      " [-9.01167828e-08 -1.14780821e-06 -1.35956064e-06 ... -1.08652917e-05\n",
      "  -8.66729253e-06  5.13314946e-05]]\n",
      "X after eliminating highly collinear variables\n",
      " [[ 0.          0.          0.         ...  0.          0.\n",
      "   0.        ]\n",
      " [ 0.          0.          0.         ...  0.          0.\n",
      "   0.        ]\n",
      " [ 0.          0.          0.         ...  0.          0.\n",
      "   0.        ]\n",
      " ...\n",
      " [ 0.00732816  0.01165931  0.01759063 ...  0.00608123 -0.00924896\n",
      "   0.00657644]\n",
      " [ 0.00571774  0.00755559  0.00955439 ...  0.00433036  0.00276092\n",
      "  -0.02078483]\n",
      " [ 0.01936058 -0.00952335 -0.009912   ... -0.01437205  0.0141936\n",
      "  -0.0042614 ]]\n",
      "\n",
      "\n",
      "R2-score for training set: 0.6605405240480872\n",
      "\n",
      "R2-score for testing set: 0.22601713899219034\n",
      "\n"
     ]
    }
   ],
   "source": [
    "import numpy as np\n",
    "from sklearn.linear_model import Ridge\n",
    "from sklearn.metrics import r2_score\n",
    "from sklearn.feature_selection import RFECV\n",
    "\n",
    "\n",
    "def ridge_regularization(X, Y, alpha):\n",
    "    n, p = X.shape\n",
    "    X = np.column_stack((np.ones(n), X))\n",
    "    X_transpose_X = np.dot(X.T, X)\n",
    "    identity_matrix = np.identity(p + 1)\n",
    "    identity_matrix[0, 0] = 0\n",
    "    beta = np.dot(np.linalg.inv(X_transpose_X + alpha * identity_matrix), np.dot(X.T, Y))\n",
    "    return beta\n",
    "\n",
    "\n",
    "def r_squared(Y, Y_pred):\n",
    "    mean_Y = np.mean(Y)\n",
    "    ss_tot = np.sum((Y - mean_Y) ** 2)\n",
    "    ss_res = np.sum((Y - Y_pred) ** 2)\n",
    "    r2 = 1 - (ss_res / ss_tot)\n",
    "    return r2\n",
    "\n",
    "alpha = 1.0 \n",
    "X_train, X_test, Y_train, Y_test = train_test_split(X, Y, test_size=0.3, random_state=42)\n",
    "print(\"Alpha Value : \\n\", alpha)\n",
    "\n",
    "beta = ridge_regularization(X_train, Y_train, alpha)\n",
    "beta0 = beta[0]\n",
    "coefficients = beta[1:]\n",
    "Y_train_pred = np.dot(np.column_stack((np.ones(X_train.shape[0]), X_train)), beta)\n",
    "Y_test_pred = np.dot(np.column_stack((np.ones(X_test.shape[0]), X_test)), beta)\n",
    "r2_train = r_squared(Y_train, Y_train_pred)\n",
    "r2_test = r_squared(Y_test, Y_test_pred)\n",
    "\n",
    "print(f\"Intercepts after using Ridge regularization: {beta0}\\n\")\n",
    "print(f\"Coefficients after using Ridge regularization: {coefficients}\\n\")\n",
    "print()\n",
    "\n",
    "covariance_matrix = np.cov(X, rowvar=False)\n",
    "threshold = 0.8\n",
    "highly_collinear_pairs = []\n",
    "num_features = X.shape[1]\n",
    "\n",
    "for i in range(num_features):\n",
    "    for j in range(i + 1, num_features):\n",
    "        covariance = covariance_matrix[i, j]\n",
    "        if abs(covariance) > threshold:\n",
    "            highly_collinear_pairs.append((i, j, covariance))\n",
    "\n",
    "for pair in highly_collinear_pairs:\n",
    "    i, j, covariance = pair\n",
    "\n",
    "variables_to_remove = set()\n",
    "for i, j, _ in highly_collinear_pairs:\n",
    "    variables_to_remove.add(j)\n",
    "\n",
    "variables_to_keep = [i for i in range(num_features) if i not in variables_to_remove]\n",
    "X_reduced = X[:, variables_to_keep]\n",
    "covariance_matrix_reduced = np.cov(X_reduced, rowvar=False)\n",
    "\n",
    "print(\"Finding coveriance_matrix\\n\",covariance_matrix_reduced)\n",
    "print(\"X after eliminating highly collinear variables\\n\",X_reduced)\n",
    "print()\n",
    "print()\n",
    "alpha = 1.0 \n",
    "X=X_reduced\n",
    "X_train, X_test, Y_train, Y_test = train_test_split(X, Y, test_size=0.3, random_state=42)\n",
    "beta = ridge_regularization(X_train, Y_train, alpha)\n",
    "beta0 = beta[0]\n",
    "coefficients = beta[1:]\n",
    "Y_train_pred = np.dot(np.column_stack((np.ones(X_train.shape[0]), X_train)), beta)\n",
    "Y_test_pred = np.dot(np.column_stack((np.ones(X_test.shape[0]), X_test)), beta)\n",
    "r2_train = r_squared(Y_train, Y_train_pred)\n",
    "r2_test = r_squared(Y_test, Y_test_pred)\n",
    "\n",
    "\n",
    "print(f\"R2-score for training set: {r2_train}\\n\")\n",
    "print(f\"R2-score for testing set: {r2_test}\\n\")\n",
    "\n"
   ]
  },
  {
   "cell_type": "markdown",
   "metadata": {
    "id": "UjsFtPFdz8Bm"
   },
   "source": [
    "**Degree of Collinearity:**\n",
    "\n",
    "The degree of collinearity is degree of linear relationship between two or more independent variables (features) in a regression. It quantifies how closely these variables are related in a linear fashion. We can calculate the correlation matrix and examine the correlation coefficients between the independent variables (features). We have to analyze the collinearity , if the value is close to 1 or -1, we have strong positive or negative collinearity, indicating that two variables are highly correlated. If it lies between 0.7-0.9 it depicts moderate collinearity and if its between 0.5 and 0.7 (positive or negative), it will indicate Moderate to weak collinearity. If the degree of collinearity is below 0.5 it means the features have weak collinearity.\n",
    "\n",
    "\n",
    "**How Ridge Regularization Helps deal with multi-collinearity:**\n",
    "\n",
    "Programmatically, we can calculate the degree of collinearity by using a correlation-matrix. Based on the degree of collinearity in the data, we can decide whether to apply regularization techniques like Ridge regression or Lasso Regression. High collinearity may lead to unstable coefficient estimates, and \"Ridge regularization\" can help mitigate this issue by shrinking the coefficients towards zero.\n",
    "\n",
    "Ridge regression adds a penalty term to the linear regression cost function and this enforces the model to keep the coefficients (β values) small. When multicollinearity is present, it often leads to large coefficient values because the model struggles to differentiate the individual effects of highly correlated variables. By penalizing large coefficients, Ridge regression helps in reducing the impact of multicollinearity\n",
    "\n",
    "\n",
    "The Ridge regularization term shrinks the coefficients towards zero but does not force them to be exactly zero.  Ridge regression's approach allows it to retain all variables in the model while reducing their impact.\n",
    "\n",
    "\n",
    "**How Eliminating Highly Collinear Variables Helps the EEG Dataset**\n",
    "\n",
    "Programmatically removing highly collinear variables from the EEG dataset enhances the stability and interpretability of predictive models while reducing the risk of overfitting. This process simplifies model interpretation and improves computational efficiency, making models more robust for generalization to unseen data. By eliminating collinearity, the accuracy of feature importance assessments is heightened, allowing researchers to focus on the most relevant EEG features. Additionally, data visualization becomes more meaningful, aiding in data exploration, hypothesis generation, and overall data quality improvement. This step ensures that EEG data used for analysis is reliable and accurate, benefiting research and predictive modeling efforts.\n",
    "\n",
    "**Key Observations:**\n",
    "\n",
    "Coefficients Before and After Ridge Regularization : As you can see in the below example, several coefficients in the coefficient matrix tend to move towards zero, as aforementioned.\n",
    " \n",
    " \n",
    "R2 Score Before and After Ridge Regularization :- R2 Score has improved. **It was -5 earlier for the Testing Dataset and it has improved itself to 0.22, a positve score.** "
   ]
  },
  {
   "cell_type": "markdown",
   "metadata": {
    "id": "uv3A1LH5zs-c"
   },
   "source": [
    ">>**1b**\\. **(2 Points)** *Now implement ridge regression using sklearn. Start with the default alpha value, and print the $R^2$ score*"
   ]
  },
  {
   "cell_type": "code",
   "execution_count": 8,
   "metadata": {
    "id": "51vepf1Ci1Ou"
   },
   "outputs": [
    {
     "name": "stdout",
     "output_type": "stream",
     "text": [
      "R2-score for training set after using inbuilt Ridge regularization: 0.6054186403855563\n",
      "\n",
      "R2-score for testing set using inbuilt Ridge regularization: 0.1758544493420293\n",
      "\n",
      "Intercepts after using Ridge regularization: [ 8.34407805e-03  9.68080525e-03  1.01429614e-02  9.56000272e-03\n",
      "  7.88746649e-03  5.22078131e-03  1.78887799e-03 -2.07322719e-03\n",
      " -5.96835452e-03 -9.49100550e-03 -1.22858221e-02 -1.40980323e-02\n",
      " -1.48122890e-02 -1.44697133e-02 -1.32636800e-02 -1.15111059e-02\n",
      " -9.60540394e-03 -7.95656581e-03 -6.92738406e-03 -6.77490792e-03\n",
      " -7.60710601e-03 -9.36050662e-03 -1.18030176e-02 -1.45627154e-02\n",
      " -1.71783093e-02 -1.91643426e-02 -2.00827382e-02 -1.96097646e-02\n",
      " -1.75888704e-02 -1.40609881e-02 -9.26896414e-03 -3.63292958e-03\n",
      "  2.29840306e-03  7.91502751e-03  1.26230984e-02  1.59201296e-02\n",
      "  1.74598926e-02  1.70970190e-02  1.49050762e-02  1.11677511e-02\n",
      "  6.34234574e-03  1.00196650e-03 -4.23441702e-03 -8.77770195e-03\n",
      " -1.21371990e-02 -1.39746054e-02 -1.41375654e-02 -1.26683600e-02\n",
      " -9.78874010e-03 -5.86335991e-03 -1.34892575e-03  3.26489581e-03\n",
      "  7.51339866e-03  1.10071110e-02  1.34678599e-02  1.47486156e-02\n",
      "  1.48350881e-02  1.38311458e-02  1.19326243e-02  9.39331301e-03\n",
      "  6.48942072e-03  3.48793878e-03  6.20561360e-04 -1.93177990e-03\n",
      " -4.04554115e-03 -5.65312485e-03 -6.73447349e-03 -7.30675852e-03\n",
      " -7.41284381e-03 -7.11169205e-03 -6.47309358e-03 -5.57384551e-03\n",
      " -4.49812074e-03 -3.33716208e-03 -2.18911822e-03 -1.15627183e-03\n",
      " -3.37678958e-04  1.79159645e-04  3.30519415e-04  8.73619772e-05\n",
      " -5.35530303e-04 -1.47642985e-03 -2.62924935e-03 -3.85415712e-03\n",
      " -4.99529566e-03]\n",
      "\n",
      "Coefficients after using Ridge regularization: [[ 0.02674694 -0.02390871 -0.03050786 ...  0.00156384  0.00036361\n",
      "  -0.00408405]\n",
      " [ 0.02765046 -0.02508114 -0.03188372 ...  0.00120878  0.00061214\n",
      "  -0.0041122 ]\n",
      " [ 0.02750294 -0.02536881 -0.03221716 ...  0.00077631  0.00097107\n",
      "  -0.00424281]\n",
      " ...\n",
      " [ 0.02783582 -0.01473693 -0.01918914 ...  0.00563397 -0.00575079\n",
      "  -0.00283293]\n",
      " [ 0.02276558 -0.01274869 -0.01689335 ...  0.00535564 -0.00525241\n",
      "  -0.00309462]\n",
      " [ 0.01704959 -0.01088026 -0.0148018  ...  0.0050142  -0.0046013\n",
      "  -0.00348473]]\n",
      "\n"
     ]
    }
   ],
   "source": [
    "from sklearn.linear_model import Ridge\n",
    "alpha = 1.0\n",
    "\n",
    "\n",
    "X_train, X_test, Y_train, Y_test = train_test_split(X, Y, test_size=0.3, random_state=42)\n",
    "ridge_model = Ridge(alpha=alpha)\n",
    "ridge_model.fit(X_train, Y_train)\n",
    "Y_train_pred = ridge_model.predict(X_train)\n",
    "Y_test_pred = ridge_model.predict(X_test)\n",
    "r2_train = r2_score(Y_train, Y_train_pred)\n",
    "r2_test = r2_score(Y_test, Y_test_pred)\n",
    "\n",
    "print(f\"R2-score for training set after using inbuilt Ridge regularization: {r2_train}\\n\")\n",
    "print(f\"R2-score for testing set using inbuilt Ridge regularization: {r2_test}\\n\")\n",
    "print(f\"Intercepts after using Ridge regularization: {ridge_model.intercept_}\\n\")\n",
    "print(f\"Coefficients after using Ridge regularization: {ridge_model.coef_}\\n\")\n"
   ]
  },
  {
   "cell_type": "markdown",
   "metadata": {
    "id": "SM2On6G0oTvo"
   },
   "source": [
    ">>**2**\\. **(5 Points)** *Now we will look at what happens when varying the parameter. Try 10 different values for alpha and print the alpha value with corresponding $R^2$ score using Cross-Validation for training data. Describe how you pick the range of alpha values to examine.*\n",
    "\n"
   ]
  },
  {
   "cell_type": "markdown",
   "metadata": {
    "id": "QW1IJFuE0jWr"
   },
   "source": [
    "**Alpha values determine the intensity of regularization on the model**\n",
    "\n",
    "Small alphas have little regularization effect, while large alphas heavily regularize the model. This helps you understand the model's behavior under various levels of regularization.\n",
    "\n",
    "**The range of alpha values** should include values of differing magnitudes, i.e. small values, extremely small values, large numbers, extremely large numbers. It can be beneficial to include extreme values like very small (close to zero) and very large alpha values in your range. Since it is very costly to run a loop for so many numbers, we can use a logarithmic scale to increment the values quickly. i.e, the values can grow from 0.01, 0.1, 1, 10, 100,10000000 very quickly as compared to the linear increments like 2,3,4,5,6,7... Using a logarithmic scale ensures that you explore both weak and strong regularization effectively.\n",
    "\n",
    "\n",
    "**Cross-Validation**: We can use cross-validation techniques, for instance k-fold cross-validation to evaluate the model's performance for each alpha value. This provides a more robust estimate of how well the model generalizes to unseen data.\n",
    "\n"
   ]
  },
  {
   "cell_type": "code",
   "execution_count": 9,
   "metadata": {
    "id": "crILa9Jji124"
   },
   "outputs": [
    {
     "name": "stdout",
     "output_type": "stream",
     "text": [
      "Alpha: 0.0001, Mean R2 Score: -3.7571\n",
      "Alpha: 0.0008, Mean R2 Score: -2.1419\n",
      "Alpha: 0.0060, Mean R2 Score: -0.8949\n",
      "Alpha: 0.0464, Mean R2 Score: -0.1550\n",
      "Alpha: 0.3594, Mean R2 Score: 0.0924\n",
      "Alpha: 2.7826, Mean R2 Score: 0.0479\n",
      "Alpha: 21.5443, Mean R2 Score: 0.0024\n",
      "Alpha: 166.8101, Mean R2 Score: -0.0182\n",
      "Alpha: 1291.5497, Mean R2 Score: -0.0222\n",
      "Alpha: 10000.0000, Mean R2 Score: -0.0228\n"
     ]
    }
   ],
   "source": [
    "import numpy as np\n",
    "from sklearn.linear_model import Ridge\n",
    "from sklearn.model_selection import cross_val_score\n",
    "\n",
    "X_train, X_test, Y_train, Y_test = train_test_split(X, Y, test_size=0.3, random_state=42)\n",
    "alpha = np.logspace(-4,4,10) \n",
    "alpha_score = []\n",
    "for alpha_val in alpha:\n",
    "    ridge_model = Ridge(alpha=alpha_val)\n",
    "    r2 = cross_val_score(ridge_model, X_train, Y_train, cv=5, scoring='r2')\n",
    "    mean_of_r2 = np.mean(r2)\n",
    "    alpha_score.append((alpha_val, mean_of_r2))\n",
    "    \n",
    "for alpha, r2 in alpha_score:\n",
    "    print(f\"Alpha: {alpha:.4f}, Mean R2 Score: {r2:.4f}\")\n",
    "    \n",
    "    \n",
    "# I am doing it for 50 different values with logarithmic growth.\n"
   ]
  },
  {
   "cell_type": "markdown",
   "metadata": {
    "id": "LiNCKowIpao5"
   },
   "source": [
    ">>**3**\\. **(2 Points)** What is the highest $R^2$ you can achieve?\n",
    "\n",
    "\n",
    "\n",
    "\n",
    "Solution :- Using the cross validation technique, If we see the pattern, the mean R2 score tends to increase as alpha grows initially, reaching its peak value  when the Alpha value oscillates between 0.1-1.0 and then it tends to decrease again as alpha becomes very large and it becomes constant at **-0.028** for very large values of Alpha.\n",
    "\n",
    "Alpha: 0.3556, Mean R2 Score: 0.0923\n",
    "**Alpha: 0.4292, Mean R2 Score: 0.0939**\n",
    "Alpha: 0.5179, Mean R2 Score: 0.0932\n",
    "Alpha: 0.6251, Mean R2 Score: 0.0908 \n",
    "\n",
    "Therefore, when Alpha is oscillating nearer to 0.42, the \"Mean $R^2$ Score\" is the highest and the mean value is approximately **0.2**. Below is the implementation for the dataset and the highest value is approximately **0.196** as shown below **when alpha is approximately 0.4 ( shown programmatically below).\n",
    "\n",
    "\n",
    "**Hence, the highest Possible Value of $R^2$ is approximately 0.196**"
   ]
  },
  {
   "cell_type": "code",
   "execution_count": 10,
   "metadata": {
    "id": "7LhADmsWkEde"
   },
   "outputs": [
    {
     "name": "stdout",
     "output_type": "stream",
     "text": [
      "R2-score for testing set using inbuilt Ridge regularization: 0.19612538631317517\n"
     ]
    }
   ],
   "source": [
    "from sklearn.linear_model import Ridge\n",
    "alpha = 0.4\n",
    "\n",
    "ridge_model = Ridge(alpha=alpha)\n",
    "ridge_model.fit(X_train, Y_train)\n",
    "Y_train_pred = ridge_model.predict(X_train)\n",
    "Y_test_pred = ridge_model.predict(X_test)\n",
    "r2_train = r2_score(Y_train, Y_train_pred)\n",
    "r2_test = r2_score(Y_test, Y_test_pred)\n",
    "\n",
    "print(f\"R2-score for testing set using inbuilt Ridge regularization: {r2_test}\")"
   ]
  },
  {
   "cell_type": "markdown",
   "metadata": {
    "id": "IPgtwSADUlGf"
   },
   "source": [
    "### **Part 2: Lasso Regularization (12 Points)**\n",
    "\n",
    "---\n"
   ]
  },
  {
   "cell_type": "markdown",
   "metadata": {
    "id": "TGFMIM1UqaBV"
   },
   "source": [
    ">>**1**\\. **(3 Points)** *Another method often used to improve performance is Lasso regularization. Lasso regression improves performance by using shrinkage, where data values are shrunk towards a central point, like the mean. Lasso regression performs L1 regularization, which adds a penalty equal to the absolute value of the magnitude of coefficients. This can result in sparse models with few coefficients (many coefficients can -> 0 and are eliminated from the model). Implement this using sklearn with default parameter values and print the $R^2$ score*"
   ]
  },
  {
   "cell_type": "markdown",
   "metadata": {
    "id": "5KLG8kwzSovn"
   },
   "source": [
    " \\begin{align}\n",
    "\\text{LASSO Regression}\n",
    "\\end{align}\n",
    "\n",
    "\n",
    "\n",
    " \\begin{align}\n",
    "        \\underset{\\beta}{\\operatorname{arg min}}\n",
    "        \\left[\\sum_{i=1}^n \\left( y_i - βo - \\sum_{j=1}^p β_jx_ij  \\right)^2 + λ\\sum_{j=1}^p|β_j|  \\right]\n",
    "    \\end{align}"
   ]
  },
  {
   "cell_type": "code",
   "execution_count": 128,
   "metadata": {
    "id": "74ofK8tHh92y"
   },
   "outputs": [
    {
     "name": "stdout",
     "output_type": "stream",
     "text": [
      "R2 score for testing dataset: -0.02384059850135385\n",
      "\n"
     ]
    }
   ],
   "source": [
    "import numpy as np\n",
    "from sklearn.model_selection import train_test_split\n",
    "from sklearn.linear_model import Lasso\n",
    "from sklearn.linear_model import Ridge\n",
    "from sklearn.metrics import r2_score\n",
    "\n",
    "X_train, X_test, Y_train, Y_test = train_test_split(X, Y, test_size=0.3, random_state=42)\n",
    "lasso_model = Lasso(alpha=1.0)\n",
    "lasso_model.fit(X_train, Y_train)\n",
    "Y_train_pred = lasso_model.predict(X_train)\n",
    "Y_test_pred = lasso_model.predict(X_test)\n",
    "\n",
    "\n",
    "r2 = r2_score(Y_test, Y_test_pred)\n",
    "\n",
    "print(f\"R2 score for testing dataset: {r2}\\n\")\n",
    "\n",
    "#Using Sklearn library as mentioned in the question.\n"
   ]
  },
  {
   "cell_type": "markdown",
   "metadata": {
    "id": "8rQQ1FbAqfZk"
   },
   "source": [
    ">>**2**\\. **(5 Points)** *Try 10 different values for the regularization parameter Alpha and print the alpha value with corresponding $R^2$ score using cross-validation. Again, give your reasoning for the choices of alpha. If you choose to tune any other hyperparameters of the model then justify your reason for it*\n"
   ]
  },
  {
   "cell_type": "markdown",
   "metadata": {
    "id": "pQJAGHZY4EG2"
   },
   "source": [
    "Alpha values determine the intensity of regularization on the model\n",
    "Small alphas have little regularization effect, while large alphas heavily regularize the model. \n",
    "\n",
    "**Choice of Alpha Values** : This would be similar to Ridge, the range of alpha values should include values of differing magnitudes, i.e. small values, extremely small values, large numbers, extremely large numbers. It can be beneficial to include extreme values like very small (close to zero) and very large alpha values in your range. Since it is very costly to run a loop for so many numbers, we can use a **logarithmic scale** to increment the values quickly. i.e, the values can grow from 0.01, 0.1, 1, 10, 100,10000000 very quickly as compared to the linear increments.\n",
    "\n",
    "**Best Alpha & Mean R2 Score** : We can find the best alpha by using the inbuilt MultiTaskLassoCV alpha_ parameter, and we found out the best Alpha is approximately **0.0008** and the best Mean R2 Score is **0.3360** approximately.\n",
    "\n",
    "\n",
    "**Hyperparemeters to consider**: **Using cv=5 (5-fold cross-validation)** helps strike a balance between robustly estimating model performance and computational efficiency by dividing the dataset into five subsets for performance evaluation. **Setting max_iter=100000 (maximum iterations)** ensures that the solver has ample iterations to converge to a solution, preventing premature stopping and accommodating complex datasets or regularization strengths. These hyperparameter choices aim to provide reliable performance estimation while ensuring convergence in Lasso regularization, but may be adjusted as needed based on dataset characteristics during hyperparameter tuning."
   ]
  },
  {
   "cell_type": "code",
   "execution_count": 12,
   "metadata": {
    "id": "bOD9ReOLit8j"
   },
   "outputs": [
    {
     "name": "stdout",
     "output_type": "stream",
     "text": [
      "Alpha: 10000.0000, Mean R2 Score: 0.0842\n",
      "Alpha: 1291.5497, Mean R2 Score: 0.0842\n",
      "Alpha: 166.8101, Mean R2 Score: 0.0842\n",
      "Alpha: 21.5443, Mean R2 Score: 0.0842\n",
      "Alpha: 2.7826, Mean R2 Score: 0.0842\n",
      "Alpha: 0.3594, Mean R2 Score: 0.0842\n",
      "Alpha: 0.0464, Mean R2 Score: 0.0842\n",
      "Alpha: 0.0060, Mean R2 Score: 0.0623\n",
      "Alpha: 0.0008, Mean R2 Score: 0.0494\n",
      "Alpha: 0.0001, Mean R2 Score: 0.0954\n",
      "Best alpha: 0.0008\n",
      "R2 score on the test set: 0.3360\n"
     ]
    }
   ],
   "source": [
    "import numpy as np\n",
    "import pickle\n",
    "from sklearn.linear_model import MultiTaskLassoCV\n",
    "from sklearn.metrics import r2_score\n",
    "from sklearn.model_selection import train_test_split\n",
    "\n",
    "X_train, X_test, Y_train, Y_test = train_test_split(X, Y, test_size=0.3, random_state=42)\n",
    "\n",
    "alphas = np.logspace(-4, 4, 10)\n",
    "lasso_cv_model = MultiTaskLassoCV(alphas=alphas, cv=5,max_iter=100000)\n",
    "lasso_cv_model.fit(X_train, Y_train)\n",
    "best_alpha = lasso_cv_model.alpha_\n",
    "r2_scores = lasso_cv_model.mse_path_.mean(axis=1)\n",
    "\n",
    "for alpha, r2 in zip(lasso_cv_model.alphas_, r2_scores):\n",
    "    print(f\"Alpha: {alpha:.4f}, Mean R2 Score: {r2:.4f}\")\n",
    "\n",
    "print(f\"Best alpha: {best_alpha:.4f}\")\n",
    "Y_test_pred = lasso_cv_model.predict(X_test)\n",
    "\n",
    "r2_test = r2_score(Y_test, Y_test_pred)\n",
    "print(f\"R2 score on the test set: {r2_test:.4f}\")\n"
   ]
  },
  {
   "cell_type": "markdown",
   "metadata": {
    "id": "Fq0XbNHguSbR"
   },
   "source": [
    ">>**3**\\. **(2 Point)** *Plot a graph for different Alpha values and corresponding R^2 score. Explain the shape of the curve.*"
   ]
  },
  {
   "cell_type": "code",
   "execution_count": 13,
   "metadata": {
    "id": "3wiZINHQk8-h"
   },
   "outputs": [
    {
     "name": "stderr",
     "output_type": "stream",
     "text": [
      "/Users/sainishanth/anaconda3/lib/python3.10/site-packages/sklearn/linear_model/_coordinate_descent.py:609: ConvergenceWarning: Objective did not converge. You might want to increase the number of iterations. Duality gap: 0.18308006514729414, tolerance: 0.11916174986568945\n",
      "  model = cd_fast.enet_coordinate_descent_multi_task(\n",
      "/Users/sainishanth/anaconda3/lib/python3.10/site-packages/sklearn/linear_model/_coordinate_descent.py:609: ConvergenceWarning: Objective did not converge. You might want to increase the number of iterations. Duality gap: 0.1492603139312223, tolerance: 0.1278069172272726\n",
      "  model = cd_fast.enet_coordinate_descent_multi_task(\n",
      "/Users/sainishanth/anaconda3/lib/python3.10/site-packages/sklearn/linear_model/_coordinate_descent.py:609: ConvergenceWarning: Objective did not converge. You might want to increase the number of iterations. Duality gap: 0.1305337073745534, tolerance: 0.10798832624017086\n",
      "  model = cd_fast.enet_coordinate_descent_multi_task(\n",
      "/Users/sainishanth/anaconda3/lib/python3.10/site-packages/sklearn/linear_model/_coordinate_descent.py:609: ConvergenceWarning: Objective did not converge. You might want to increase the number of iterations. Duality gap: 0.3706844439205952, tolerance: 0.1270837775912732\n",
      "  model = cd_fast.enet_coordinate_descent_multi_task(\n"
     ]
    },
    {
     "data": {
      "image/png": "[encoded data removed]",
      "text/plain": [
       "<Figure size 1000x600 with 1 Axes>"
      ]
     },
     "metadata": {},
     "output_type": "display_data"
    }
   ],
   "source": [
    "import numpy as np\n",
    "import pickle\n",
    "import matplotlib.pyplot as plt\n",
    "from sklearn.linear_model import MultiTaskLassoCV\n",
    "from sklearn.metrics import r2_score\n",
    "from sklearn.model_selection import train_test_split\n",
    "\n",
    "fn = 'eeg_dat.p'\n",
    "with open(fn, 'rb') as fp:\n",
    "    [X, Y] = pickle.load(fp)\n",
    "\n",
    "X_train, X_test, Y_train, Y_test = train_test_split(X, Y, test_size=0.3, random_state=42)\n",
    "\n",
    "alphas = np.logspace(-4, 4, 10)\n",
    "lasso_cv_model = MultiTaskLassoCV(alphas=alphas, cv=5)\n",
    "lasso_cv_model.fit(X_train, Y_train)\n",
    "r2_scores = lasso_cv_model.mse_path_.mean(axis=1)\n",
    "\n",
    "plt.figure(figsize=(10, 6))\n",
    "plt.semilogx(lasso_cv_model.alphas_, r2_scores, marker='o', linestyle='-')\n",
    "plt.xlabel('Alpha (Regularization Parameter)')\n",
    "plt.ylabel('Mean R^2 Score')\n",
    "plt.title('Alpha vs. Mean R^2 Score for MultiTaskLassoCV')\n",
    "plt.grid(True)\n",
    "plt.show()\n"
   ]
  },
  {
   "cell_type": "markdown",
   "metadata": {
    "id": "4s8NtbFd4WVg"
   },
   "source": [
    "**Shape of the Curve :**\n",
    "\n",
    "The shape of the curve  between alpha (λ) and the mean 𝑅² score in Lasso regularization typically follows a U-Shaped Curve, but it flattens out at the end when alpha becomes increasingly high as the mean R^2 Score becomes constat.\n",
    "\n",
    "**Part-1:** Initially observe a U-shaped curve as you vary the alpha values.\n",
    "As alpha increases from zero (no regularization), the mean 𝑅² score initially increases. This is because regularization helps prevent overfitting, improving model generalization to some extent.\n",
    "\n",
    "**Part-2**: After a certain point, as alpha continues to increase, the mean 𝑅² score starts to decrease. This decline happens because higher levels of regularization begin to excessively penalize the model's coefficients, leading to underfitting.\n",
    "\n",
    "\n",
    "**BEST Alpha Point**:\n",
    "\n",
    "The point on the curve where the mean 𝑅² score is the highest represents the optimal alpha value for your specific dataset.\n",
    "This alpha value strikes the right balance between bias and variance, resulting in the best generalization performance on unseen data.\n",
    "\n",
    "\n",
    "**How to choose Alpha**:\n",
    "Ifwe choose an alpha to the left of the optimal point, lesser value than the optimal point, you risk overfitting the model to the training data, which may result in poor generalization. If we choose an alpha to the right of the optimal point  you risk underfitting the model\n",
    "\n",
    "\n",
    "**In summary, the shape of the alpha vs. mean 𝑅² score curve in Lasso regularization typically follows a U-shaped pattern with a constant wedge/straight line as alpha becomes increasingly high**."
   ]
  },
  {
   "cell_type": "markdown",
   "metadata": {
    "id": "xdkEoOGbuRNb"
   },
   "source": [
    ">>**4**\\. **(2 Point)** *Which of the following two methods of Regularization worked better and why?*\n"
   ]
  },
  {
   "cell_type": "code",
   "execution_count": 20,
   "metadata": {
    "scrolled": false
   },
   "outputs": [
    {
     "name": "stdout",
     "output_type": "stream",
     "text": [
      "Lasso Regression performs better with a mean R2 score of: -0.920656523472395\n"
     ]
    }
   ],
   "source": [
    "import numpy as np\n",
    "from sklearn.model_selection import train_test_split, cross_val_score\n",
    "from sklearn.linear_model import Lasso, Ridge\n",
    "from sklearn.preprocessing import StandardScaler\n",
    "import warnings\n",
    "warnings.filterwarnings('ignore')\n",
    "X_train, X_test, Y_train, Y_test = train_test_split(X, Y, test_size=0.3, random_state=42)\n",
    "scaler = StandardScaler()\n",
    "X_train_scaled = scaler.fit_transform(X_train)\n",
    "X_test_scaled = scaler.transform(X_test)\n",
    "lasso_model = Lasso(alphas = np.logspace(-4, 4, num=100))  \n",
    "ridge_model = Ridge(alphas = np.logspace(-4, 4, num=100)\n",
    "lasso_scores = cross_val_score(lasso_model, X_train_scaled, Y_train, cv=5, scoring='r2')\n",
    "ridge_scores = cross_val_score(ridge_model, X_train_scaled, Y_train, cv=5, scoring='r2')\n",
    "mean_lasso_score = np.mean(lasso_scores)\n",
    "mean_ridge_score = np.mean(ridge_scores)\n",
    "\n",
    "if mean_lasso_score > mean_ridge_score:\n",
    "    print(\"Lasso Regression performs better with a mean R² score of:\", mean_lasso_score)\n",
    "else:\n",
    "    print(\"Ridge Regression performs better with a mean R² score of:\", mean_ridge_score)\n",
    "\n"
   ]
  },
  {
   "cell_type": "markdown",
   "metadata": {
    "id": "867cDX3areuC"
   },
   "source": [
    "Here, we are calculating MSE from both Lasso Scores and Ridge Scores using its **Best Alpha** Values obtained from the previous result. In the context of Lasso and Ridge regression, achieving a lower MSE signifies that the model's predictions are, on average, closer to the true target values within the dataset. This reflects improved predictive performance and suggests that the model is capturing the underlying patterns in the data more accurately.\n",
    "\n",
    "**Lasso Regularization**: Lasso introduces an L1 penalty term into the linear regression objective function. This penalty encourages sparsity in the model, driving some feature coefficients to precisely zero. Lasso is valuable for feature selection, as it identifies and eliminates less important features, simplifying the model. While a lower MSE can be indicative of accurate predictions, it doesn't necessarily imply \"better\" regularization in the sense of feature selection.\n",
    "\n",
    "**Ridge Regularization**: Ridge, on the other hand, employs an L2 penalty term. It discourages large coefficient values but doesn't force any coefficients to become precisely zero. Ridge primarily helps control multicollinearity (correlation between features) and reduces the impact of less important features without aggressively eliminating them. Again, a lower MSE suggests improved predictive performance but doesn't inherently mean superior regularization.\n",
    "\n",
    "The choice between Lasso and Ridge depends on the type or the selection of the appropriate regularization strength (alpha), represents a trade-off between model complexity and predictive accuracy.\n",
    "\n",
    "**Lasso Regression performs better with an overall mean R² score of: -0.920656523472395 when we take 100 different alphas between the range -4 to 4.**"
   ]
  },
  {
   "cell_type": "markdown",
   "metadata": {
    "id": "VhOIkUtKUpDk"
   },
   "source": [
    "### **Part 3: Logistic Regression (5 Points)**\n",
    "\n",
    "---\n"
   ]
  },
  {
   "cell_type": "markdown",
   "metadata": {
    "id": "G8i6VvqmpUN4"
   },
   "source": [
    "**1. (1 point)** Now let's consider logistic regression. What is the difference betweeen a linear and logistic regression problem? Explain. (You may take the example of the dataset and task used in this assignment to explain how it would look different for a logistic regression problem)"
   ]
  },
  {
   "cell_type": "markdown",
   "metadata": {
    "id": "vvwrLflUpXgQ"
   },
   "source": [
    "**Linear Regression**: In linear regression, the dependent variable is continuous and numeric. It represents a quantity or a value. Linear regression will model the relationship between the dependent variable and one or more independent variables as a linear equation. It tries to find a line that best fits the data points. The output is a continuous value, and Linear Regression is used when the goal is to predict a real-valued outpu.\n",
    "\n",
    "**Logistic Regression**: In logistic regression, the dependent variable is binary or categorical. It represents a probability or a class label. Logistic regression models the relationship between the dependent variable and independent variables using the logistic function. The logistic function, also known as the **sigmoid function**, maps any real-valued number to a value between 0 and 1. Hence this is essentially used for Binary Classification. It is majorly used when the end goal is to classify the data-points betweeen two or more categories.\n",
    "\n",
    "\n",
    "\n",
    "**For the EEG Dataset**: At first we were working with the EEG dataset to predict EEG Data values which is a regression problem and the output is a continuous numerical value. If we want to predict whether a person is in a definite state, for instance if he is \"Focused or Relaxed\" (\"classify someone into two-categories based on a set of values\"), based on EEG data features, it becomes a logistic regression problem/binary classification problem. We will still have to do similar Feature Selection and Data Preprocessing steps, which we have done in Linear Regression.\n",
    "\n",
    "We have to use LogisticRegression() Model to model the probability of being in the \"Relaxed\" class or a \"Focused\" class. The logistic function (sigmoid function) would map the features to a probability between 0 and 1. To achieve this we can set a threshold to classify data points. If the predicted probability is above the threshold, you classify the person as \"Relaxed\", which can be labelled as 1, else we can classify them as \"Focused\", which can be labelled as 0.\n",
    "\n",
    "The  primary goal is to classify individuals into one of two classes (relaxed or focused) based on their EEG data features. The output is not a continuous EEG reading but a binary classification result.\n",
    "\n",
    "\n",
    "**Below is the basic implementation of Logistic Regression for the EEG Dataset** \n"
   ]
  },
  {
   "cell_type": "markdown",
   "metadata": {
    "id": "Fl7oTpmzpepi"
   },
   "source": [
    "**2. (1 point )** Following your answer in the previous question, convert the dataset such that for the same outcome prediction task, a logistic regression is suitable."
   ]
  },
  {
   "cell_type": "code",
   "execution_count": 102,
   "metadata": {
    "id": "Qa-oc14pUevH"
   },
   "outputs": [
    {
     "name": "stdout",
     "output_type": "stream",
     "text": [
      "Shape of Binary Predictions after Aggregation\n",
      " (305,)\n",
      "\n",
      "Aggregated, Converted Binary Output to determine whether a person is focused or relaxed [0 0 0 0 0 0 0 0 0 0 0 0 0 0 0 0 0 0 0 0 0 0 0 0 0 0 0 0 0 0 0 0 0 0 0 0 0\n",
      " 0 0 0 0 0 0 0 0 0 0 0 0 0 0 0 0 0 0 0 0 0 0 0 0 0 0 0 0 0 0 0 0 0 0 0 0 0\n",
      " 0 0 0 0 0 0 0 0 0 0 0 0 0 0 0 0 0 0 0 0 0 0 0 0 0 0 0 0 0 0 0 0 0 0 0 0 0\n",
      " 0 0 0 0 0 0 0 0 0 0 0 0 0 0 0 0 0 0 0 0 0 0 0 0 0 0 0 0 0 0 0 0 0 0 0 0 0\n",
      " 0 0 0 0 0 0 0 0 0 0 0 0 0 0 0 0 0 0 0 0 0 0 0 0 0 0 0 0 0 0 0 0 0 0 0 0 0\n",
      " 0 0 0 0 0 0 0 0 0 0 0 0 0 0 0 0 0 0 0 0 0 0 0 0 0 0 0 0 0 0 0 0 0 0 0 0 0\n",
      " 0 0 0 0 0 0 0 0 0 0 0 0 0 0 0 0 0 0 0 0 0 0 0 0 0 0 0 0 0 0 0 0 0 0 0 0 0\n",
      " 0 0 0 0 0 0 0 0 0 0 0 0 0 0 1 0 0 0 0 0 0 0 0 0 0 0 0 0 1 0 0 0 0 0 0 0 0\n",
      " 0 0 0 0 0 0 1 0 0]\n",
      "\n",
      "mean of the entire classification:-\n",
      " 0.009836065573770493\n"
     ]
    }
   ],
   "source": [
    "import numpy as np\n",
    "import pickle\n",
    "from sklearn.linear_model import LogisticRegression\n",
    "from sklearn.metrics import accuracy_score, classification_report\n",
    "from sklearn.model_selection import train_test_split\n",
    "from sklearn.preprocessing import StandardScaler\n",
    "fn = 'eeg_dat.p'\n",
    "with open(fn, 'rb') as fp:\n",
    "    [X,Y] = pickle.load(fp)\n",
    "\n",
    "threshold = 0.5\n",
    "binary_predictions = (Y > threshold).astype(int)\n",
    "\n",
    "def aggregate_predictions(predictions):\n",
    "    return np.mean(predictions, axis=1) >= 0.5\n",
    "\n",
    "aggregate_predictions_result = aggregate_predictions(Y)\n",
    "binary_predictions = (aggregate_predictions_result > threshold).astype(int)\n",
    "print(\"Shape of Binary Predictions after Aggregation\\n\", binary_predictions.shape)\n",
    "print()\n",
    "print(\"Aggregated, Converted Binary Output to determine whether a person is focused or relaxed\",binary_predictions)\n",
    "print()\n",
    "print(\"mean of the entire classification:-\\n\", binary_predictions.mean()) #indicates 1's and 0's"
   ]
  },
  {
   "cell_type": "markdown",
   "metadata": {
    "id": "rK_yMcwjpk8h"
   },
   "source": [
    "**3. (1 point)** Split this new dataset into training and testing with a 2:1 split. Implement logistic regression."
   ]
  },
  {
   "cell_type": "code",
   "execution_count": 110,
   "metadata": {
    "id": "-sAn66mYpn6S",
    "scrolled": true
   },
   "outputs": [
    {
     "name": "stdout",
     "output_type": "stream",
     "text": [
      "Method 1 : Applying Feature Selection & Dividing into Tasks and calculating mean accuracy\n",
      "\n",
      "Average Accuracy Score for all sub-tasks: 0.9689\n",
      "\n",
      "Method 2 : Converting Y from 305,85 to 305, by using Majority Aggregations\n",
      "\n",
      "Accuracy Score For Logistic Regression: 0.9902\n",
      "\n",
      "Classification Report:\n",
      "               precision    recall  f1-score   support\n",
      "\n",
      "       False       0.99      1.00      1.00       101\n",
      "        True       0.00      0.00      0.00         1\n",
      "\n",
      "    accuracy                           0.99       102\n",
      "   macro avg       0.50      0.50      0.50       102\n",
      "weighted avg       0.98      0.99      0.99       102\n",
      "\n"
     ]
    }
   ],
   "source": [
    "import numpy as np\n",
    "import pickle\n",
    "from sklearn.linear_model import LogisticRegression\n",
    "from sklearn.metrics import accuracy_score, classification_report\n",
    "from sklearn.model_selection import train_test_split\n",
    "from sklearn.preprocessing import StandardScaler\n",
    "\n",
    "# Conversion of Data\n",
    "threshold = 0.5\n",
    "Y_answer = (Y > threshold).astype(int)\n",
    "\n",
    "#Division of Y into sub-tasks\n",
    "num_tasks = Y_answer.shape[1]\n",
    "\n",
    "#For each task we will find the accuracy and report, and will calculate the mean_accuracy and the Y_pred\n",
    "accuracies = []\n",
    "classification_reports = []\n",
    "Y_pred_list = []  \n",
    "X_reduced_list = []  \n",
    "\n",
    "#Apply Feature Selection\n",
    "num_features_to_select = 85\n",
    "\n",
    "print(\"Method 1 : Applying Feature Selection & Dividing into Tasks and calculating mean accuracy\\n\")\n",
    "for task_column_index in range(num_tasks):\n",
    "    Y_target = Y_answer[:, task_column_index]\n",
    "    X_reduced = X[:, :num_features_to_select]\n",
    "    X_train, X_test, Y_train, Y_test = train_test_split(X_reduced, Y_target, test_size=1/3, random_state=42)\n",
    "    scaler = StandardScaler()\n",
    "    X_train_scaled = scaler.fit_transform(X_train)\n",
    "    X_test_scaled = scaler.transform(X_test)\n",
    "    logistic_regressor = LogisticRegression(random_state=42, max_iter=1000)\n",
    "    logistic_regressor.fit(X_train_scaled, Y_train)\n",
    "    Y_pred = logistic_regressor.predict(X_test_scaled)\n",
    "    accuracy = accuracy_score(Y_test, Y_pred)\n",
    "    accuracies.append(accuracy)\n",
    "    classification_rep = classification_report(Y_test, Y_pred, zero_division='warn')\n",
    "    classification_reports.append(classification_rep)\n",
    "    Y_pred_list.append(Y_pred)\n",
    "    X_reduced_list.append(X_reduced)\n",
    "\n",
    "# Calculate the average accuracy across all tasks\n",
    "average_accuracy = np.mean(accuracies)\n",
    "\n",
    "print(f\"Average Accuracy Score for all sub-tasks: {average_accuracy:.4f}\\n\")\n",
    "\n",
    "\n",
    "print(\"Method 2 : Converting Y from 305,85 to 305, by using Majority Aggregations\\n\")\n",
    "\n",
    "def aggregate_predictions(predictions):\n",
    "    return np.mean(predictions, axis=1) >= 0.5\n",
    "\n",
    "threshold = 0.5\n",
    "raw_scores =Y \n",
    "binary_predictions = (raw_scores >= threshold).astype(int)\n",
    "aggregate_predictions_result = aggregate_predictions(binary_predictions)\n",
    "\n",
    "\n",
    "X_train, X_test, Y_train, Y_test = train_test_split(X, aggregate_predictions_result, test_size=1/3,random_state=42)\n",
    "scaler = StandardScaler()\n",
    "X_train_scaled = scaler.fit_transform(X_train)\n",
    "X_test_scaled = scaler.transform(X_test)\n",
    "logistic_regressor = LogisticRegression(random_state=42,max_iter=1000)\n",
    "logistic_regressor.fit(X_train_scaled, Y_train)\n",
    "Y_pred = logistic_regressor.predict(X_test_scaled)\n",
    "accuracy = accuracy_score(Y_test, Y_pred)\n",
    "classification_rep = classification_report(Y_test, Y_pred,zero_division='warn')\n",
    "print(f\"Accuracy Score For Logistic Regression: {accuracy:.4f}\\n\")\n",
    "print(\"Classification Report:\\n\", classification_rep)\n"
   ]
  },
  {
   "cell_type": "markdown",
   "metadata": {
    "id": "sjlQWqtkpq5b"
   },
   "source": [
    "**4. (2 point)** Report the performance of the model on the test data using accuracy. Also plot the confusion matrix and ROC-AUC curve. What can you infer from this confusion matrix? Also can you compare the logistic and linear regressions?"
   ]
  },
  {
   "cell_type": "code",
   "execution_count": 127,
   "metadata": {
    "id": "K-qivTOXpu4a",
    "scrolled": false
   },
   "outputs": [
    {
     "name": "stdout",
     "output_type": "stream",
     "text": [
      "Accuracy Score is 0.4803921568627451 for Decision Boundary 0.1\n",
      " \n",
      "Accuracy Score is 0.7941176470588235 for Decision Boundary 0.3\n",
      " \n",
      "Accuracy Score is 0.9901960784313726 for Decision Boundary 0.5\n",
      " \n"
     ]
    },
    {
     "data": {
      "image/png": "[encoded data removed]",
      "text/plain": [
       "<Figure size 1200x400 with 3 Axes>"
      ]
     },
     "metadata": {},
     "output_type": "display_data"
    },
    {
     "data": {
      "image/png": "[encoded data removed]",
      "text/plain": [
       "<Figure size 1200x400 with 3 Axes>"
      ]
     },
     "metadata": {},
     "output_type": "display_data"
    },
    {
     "data": {
      "image/png": "[encoded data removed]",
      "text/plain": [
       "<Figure size 1200x400 with 3 Axes>"
      ]
     },
     "metadata": {},
     "output_type": "display_data"
    }
   ],
   "source": [
    "import numpy as np\n",
    "import matplotlib.pyplot as plt\n",
    "from sklearn.linear_model import LogisticRegression\n",
    "from sklearn.metrics import accuracy_score, confusion_matrix, roc_curve, roc_auc_score, auc\n",
    "from sklearn.model_selection import train_test_split\n",
    "from sklearn.preprocessing import StandardScaler\n",
    "\n",
    "def evaluate_model_with_decision_boundaries(X, Y, decision_boundaries):\n",
    "    def aggregate_predictions(predictions, boundary):\n",
    "        return np.mean(predictions, axis=1) >= boundary\n",
    "\n",
    "    results = []\n",
    "\n",
    "    for boundary in decision_boundaries:\n",
    "        raw_scores = Y\n",
    "        binary_predictions = (raw_scores >= boundary).astype(int)\n",
    "        aggregate_predictions_result = aggregate_predictions(binary_predictions, boundary)\n",
    "\n",
    "        X_train, X_test, Y_train, Y_test = train_test_split(X, aggregate_predictions_result, test_size=1/3, random_state=42)\n",
    "        scaler = StandardScaler()\n",
    "        X_train_scaled = scaler.fit_transform(X_train)\n",
    "        X_test_scaled = scaler.transform(X_test)\n",
    "        logistic_regressor = LogisticRegression(random_state=42)\n",
    "        logistic_regressor.fit(X_train_scaled, Y_train)\n",
    "        Y_pred = logistic_regressor.predict(X_test_scaled)\n",
    "        Y_proba = logistic_regressor.predict_proba(X_test_scaled)[:, 1]\n",
    "        accuracy = accuracy_score(Y_test, Y_pred)\n",
    "        print(f\"Accuracy Score is {accuracy} for Decision Boundary {boundary}\\n \")\n",
    "        conf_matrix = confusion_matrix(Y_test, Y_pred)\n",
    "        \n",
    "        fpr, tpr, _ = roc_curve(Y_test, Y_proba)\n",
    "        roc_auc = auc(fpr, tpr)\n",
    "        \n",
    "        results.append({\n",
    "            'decision_boundary': boundary,\n",
    "            'accuracy': accuracy,\n",
    "            'confusion_matrix': conf_matrix,\n",
    "            'roc_auc': roc_auc,\n",
    "            'fpr': fpr,\n",
    "            'tpr': tpr\n",
    "        })\n",
    "\n",
    "    # Plot graphs for each decision boundary\n",
    "    for result in results:\n",
    "        plt.figure(figsize=(12, 4))\n",
    "        \n",
    "        # Confusion Matrix Plot\n",
    "        plt.subplot(1, 2, 1)\n",
    "        plt.imshow(result['confusion_matrix'], interpolation='nearest', cmap=plt.cm.Reds)\n",
    "        plt.title(f\"CONFUSION-MATRIX (Boundary {result['decision_boundary']:.2f})\")\n",
    "        plt.colorbar()\n",
    "        plt.xticks([0, 1], [\"Predicted 0\", \"Predicted 1\"])\n",
    "        plt.yticks([0, 1], [\"True 0\", \"True 1\"])\n",
    "        plt.ylabel(\"True\")\n",
    "        plt.xlabel(\"Predicted\")\n",
    "        for i in range(2):\n",
    "            for j in range(2):\n",
    "                plt.text(j, i, str(result['confusion_matrix'][i, j]), ha='center', va='center', color='white'\n",
    "                         if result['confusion_matrix'][i, j] > result['confusion_matrix'].max() / 2 else 'black')\n",
    "\n",
    "        # ROC Curve Plot\n",
    "        plt.subplot(1, 2, 2)\n",
    "        plt.plot(result['fpr'], result['tpr'], color='red', lw=2, label=f'ROC curve (area = {result[\"roc_auc\"]:.2f})')\n",
    "        plt.plot([0, 1], [0, 1], color='orange', lw=2, linestyle='--')\n",
    "        plt.xlim([0.0, 1.0])\n",
    "        plt.ylim([0.0, 1.05])\n",
    "        plt.xlabel('False Positive Rate')\n",
    "        plt.ylabel('True Positive Rate')\n",
    "        plt.title(f'ROC (Decision Boundary {result[\"decision_boundary\"]:.2f})')\n",
    "        plt.legend(loc='lower right')\n",
    "        plt.show()\n",
    "\n",
    "\n",
    "decision_boundaries_to_evaluate = [0.1, 0.3, 0.5]  # In increasing order\n",
    "evaluate_model_with_decision_boundaries(X, Y, decision_boundaries_to_evaluate)\n"
   ]
  },
  {
   "cell_type": "markdown",
   "metadata": {
    "id": "K2faqHxyrolD"
   },
   "source": [
    "**ACCURACY SCORE ANAYLSIS**: \n",
    "we can observe from the output that with an increase in the decision boundary the accuracy of the model increases, from 0.1 to 0.5. The model has a singular output for a decision boundary higher than 0.5 and the **Highest Accuracy : 0.9901960784313726**\n",
    "\n",
    "\n",
    "\n",
    "**CONFUSION MATRIX ANALYSIS**:\n",
    "we can observe from the output that with an increase in the decision boundary there is an increase in the number of True Positives, and a reduction in the FN, FP, TN.\n",
    "\n",
    "When the decision boundary is 0.5, the TP are 101, which implies the model is performing well.\n",
    "\n",
    "When the decision boundary is 0.3, the TP are 78, which shows the model is slightly worse.\n",
    "\n",
    "and when the decision boundary is 0.1, the TP are very less, which shows the model is a bad-fit.\n",
    "\n",
    "\n",
    "\n",
    "**ROC-AUC Curve Analysis**\n",
    "\n",
    "Higher ROC-AUC indicates better discrimination ability, an ability to perfectly classify the data into their respective classes, where as a lower ROC-AUC suggests limited ability to separate classes. It's a valuable metric for assessing and comparing the overall performance of binary classification models.\n",
    "\n",
    "We can observe from the output that Area enclosed by the ROC-AOC Curve is the highest, 0.96 when the decision boundary is 0.5\n",
    "\n",
    "it gets worse when the decision boundary is 0.3 and much worse with little area enclosure when the decision boundary is 0.1 \n",
    "\n",
    "\n",
    "**Overall Analysis** : As per the accuracy, ROC-AUC, Classification Reports, Confusion Matrix... we can see that the model performs best when we use 0.5 as the decision boundary to classify whether a person is focused or relaxed. we can fine-tune the model and improve the model by determining the best decision boundary to classify the data into two different classes. These metrics help us drive the performance and accuracy of the model. "
   ]
  }
 ],
 "metadata": {
  "colab": {
   "provenance": []
  },
  "kernelspec": {
   "display_name": "Python 3 (ipykernel)",
   "language": "python",
   "name": "python3"
  },
  "language_info": {
   "codemirror_mode": {
    "name": "ipython",
    "version": 3
   },
   "file_extension": ".py",
   "mimetype": "text/x-python",
   "name": "python",
   "nbconvert_exporter": "python",
   "pygments_lexer": "ipython3",
   "version": "3.10.9"
  }
 },
 "nbformat": 4,
 "nbformat_minor": 1
}
