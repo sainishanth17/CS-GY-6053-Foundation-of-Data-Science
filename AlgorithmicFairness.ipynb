{
 "cells": [
  {
   "cell_type": "markdown",
   "metadata": {
    "id": "PolFe8GQqhFD"
   },
   "source": [
    "# Foundations of Data Science\n",
    "## Homework 5: Algorithmic fairness"
   ]
  },
  {
   "cell_type": "markdown",
   "metadata": {
    "id": "_LlRkZpuqhFF"
   },
   "source": [
    "Student Name: Sai Nishanth Mettu\n",
    "\n",
    "\n",
    "Net Id : sm11326\n",
    "\n",
    "***"
   ]
  },
  {
   "cell_type": "markdown",
   "metadata": {
    "id": "eTrbgxPwqhFG"
   },
   "source": [
    "### Part 1: Algorithmic fairness (15 points)\n"
   ]
  },
  {
   "cell_type": "markdown",
   "metadata": {
    "id": "fZ_ksbx1qhFG"
   },
   "source": [
    "#### Data acquisition and preparation (5 points)\n",
    "\n",
    "For this question we will use the \"Adult.data\" dataset from the UC Irvine repository.\n",
    "\n",
    "This data is from the United States census, and we will examine the algorithmic fairness for an income prediction task. For more information about the dataset, see [Here](https://archive.ics.uci.edu/ml/datasets/adult).\n"
   ]
  },
  {
   "cell_type": "markdown",
   "metadata": {
    "id": "bPrkBq0QqhFG"
   },
   "source": [
    "1\\. Download the data. (1 point)\n",
    "\n",
    "Load data from the URL using the pandas read_csv method."
   ]
  },
  {
   "cell_type": "code",
   "execution_count": 1,
   "metadata": {
    "id": "eo3T8WthqhFH",
    "scrolled": true
   },
   "outputs": [
    {
     "name": "stdout",
     "output_type": "stream",
     "text": [
      "   39         State-gov   77516  Bachelors  13       Never-married  \\\n",
      "0  50  Self-emp-not-inc   83311  Bachelors  13  Married-civ-spouse   \n",
      "1  38           Private  215646    HS-grad   9            Divorced   \n",
      "2  53           Private  234721       11th   7  Married-civ-spouse   \n",
      "3  28           Private  338409  Bachelors  13  Married-civ-spouse   \n",
      "4  37           Private  284582    Masters  14  Married-civ-spouse   \n",
      "\n",
      "        Adm-clerical  Not-in-family  White    Male  2174  0  40  \\\n",
      "0    Exec-managerial        Husband  White    Male     0  0  13   \n",
      "1  Handlers-cleaners  Not-in-family  White    Male     0  0  40   \n",
      "2  Handlers-cleaners        Husband  Black    Male     0  0  40   \n",
      "3     Prof-specialty           Wife  Black  Female     0  0  40   \n",
      "4    Exec-managerial           Wife  White  Female     0  0  40   \n",
      "\n",
      "   United-States  <=50K  \n",
      "0  United-States  <=50K  \n",
      "1  United-States  <=50K  \n",
      "2  United-States  <=50K  \n",
      "3           Cuba  <=50K  \n",
      "4  United-States  <=50K  \n"
     ]
    }
   ],
   "source": [
    "import pandas as pd\n",
    "url = \"https://archive.ics.uci.edu/ml/machine-learning-databases/adult/adult.data\"\n",
    "data = pd.read_csv(url, delimiter=',\\s', na_values=[\"?\"], engine='python')\n",
    "print(data.head())\n"
   ]
  },
  {
   "cell_type": "markdown",
   "metadata": {
    "id": "uWv9MhmBqhFH"
   },
   "source": [
    "2\\. If the column headers are not correct, assign names to them (hint: use the readme from the source website). Compute descriptive statistics for the education level. (2 points)."
   ]
  },
  {
   "cell_type": "code",
   "execution_count": 8,
   "metadata": {
    "id": "8w0YKpAaqhFI"
   },
   "outputs": [
    {
     "name": "stdout",
     "output_type": "stream",
     "text": [
      "\n",
      "Descriptive Statistics for Education Level:\n",
      "\n",
      "count       32561\n",
      "unique         16\n",
      "top       HS-grad\n",
      "freq        10501\n",
      "Name: education, dtype: object\n",
      "\n",
      "Frequency Table:\n",
      "\n",
      "HS-grad         10501\n",
      "Some-college     7291\n",
      "Bachelors        5355\n",
      "Masters          1723\n",
      "Assoc-voc        1382\n",
      "11th             1175\n",
      "Assoc-acdm       1067\n",
      "10th              933\n",
      "7th-8th           646\n",
      "Prof-school       576\n",
      "9th               514\n",
      "12th              433\n",
      "Doctorate         413\n",
      "5th-6th           333\n",
      "1st-4th           168\n",
      "Preschool          51\n",
      "Name: education, dtype: int64\n",
      "\n",
      "Relative Frequencies:\n",
      "\n",
      "HS-grad         0.322502\n",
      "Some-college    0.223918\n",
      "Bachelors       0.164461\n",
      "Masters         0.052916\n",
      "Assoc-voc       0.042443\n",
      "11th            0.036086\n",
      "Assoc-acdm      0.032769\n",
      "10th            0.028654\n",
      "7th-8th         0.019840\n",
      "Prof-school     0.017690\n",
      "9th             0.015786\n",
      "12th            0.013298\n",
      "Doctorate       0.012684\n",
      "5th-6th         0.010227\n",
      "1st-4th         0.005160\n",
      "Preschool       0.001566\n",
      "Name: education, dtype: float64\n",
      "\n",
      "Mode:\n",
      "\n",
      "HS-grad\n",
      "\n",
      "Entropy Value: 2.0319\n",
      "Gini Index Value: 0.8096\n",
      "Chi-Square Value: 488415.0000\n",
      "P-value: 0.0000\n"
     ]
    }
   ],
   "source": [
    "import pandas as pd\n",
    "import numpy as np\n",
    "import scipy as scipy\n",
    "from scipy.stats import chi2_contingency\n",
    "\n",
    "url = \"https://archive.ics.uci.edu/ml/machine-learning-databases/adult/adult.data\"\n",
    "column_names = [\n",
    "    'age', 'workclass', 'fnlwgt', 'education', 'education-num', 'marital-status',\n",
    "    'occupation', 'relationship', 'race', 'sex', 'capital-gain', 'capital-loss',\n",
    "    'hours-per-week', 'native-country', 'income'\n",
    "]\n",
    "data= pd.read_csv(url, names=column_names, delimiter=',\\s', na_values=[\"?\"], engine='python')\n",
    "education_stats = data['education'].describe()\n",
    "\n",
    "\n",
    "print(\"\\nDescriptive Statistics for Education Level:\\n\")\n",
    "print(education_stats)\n",
    "\n",
    "\n",
    "frequency_table = data['education'].value_counts()\n",
    "\n",
    "relative_frequencies = data['education'].value_counts(normalize=True)\n",
    "\n",
    "mode_value = data['education'].mode().values[0]\n",
    "\n",
    "print(\"\\nFrequency Table:\\n\")\n",
    "print(frequency_table)\n",
    "\n",
    "print(\"\\nRelative Frequencies:\\n\")\n",
    "print(relative_frequencies)\n",
    "\n",
    "print(\"\\nMode:\\n\")\n",
    "print(mode_value)\n",
    "\n",
    "\n",
    "entropy_value = scipy.stats.entropy(data['education'].value_counts(normalize=True))\n",
    "print(f\"\\nEntropy Value: {entropy_value:.4f}\")\n",
    "\n",
    "def gini_index(values):\n",
    "    p_values = values / float(values.sum())\n",
    "    gini = 1 - sum(np.square(p_values))\n",
    "    return gini\n",
    "\n",
    "gini_index_value = gini_index(data['education'].value_counts())\n",
    "print(f\"Gini Index Value: {gini_index_value:.4f}\")\n",
    "\n",
    "\n",
    "contingency_table = pd.crosstab(data['education'], data['education'])\n",
    "chi2, p, _, _ = chi2_contingency(contingency_table)\n",
    "\n",
    "print(f\"Chi-Square Value: {chi2:.4f}\")\n",
    "print(f\"P-value: {p:.4f}\")\n",
    "\n"
   ]
  },
  {
   "cell_type": "markdown",
   "metadata": {
    "id": "DzW72jtgqhFI"
   },
   "source": [
    "3\\. Select one attribute as protected. Explain the reason why you selected this attribute. (1 point)\n",
    "\n",
    "Protected attributes require the prefix protected. The outcome attribute requires the prefix target. For example, if you need to measure fairness rankings of a dataset with the columns sex and credit_score, rename the columns to protected_sex and target_credit_Score. Update the column names for our dataset (hint: you may also have to convert the target to a binary variable and create dummy variables for those that are categorical, for upcoming steps). (1 point)."
   ]
  },
  {
   "cell_type": "markdown",
   "metadata": {},
   "source": [
    "**Explanation :-** For  algorithmic fairness analysis, I will select the \"sex\" attribute as the protected attribute. The reason for selecting \"sex\" is that it is often considered a sensitive attribute in many social contexts, and bias based on gender is a significant concern in fairness assessments. By choosing \"sex\" as the protected attribute, we aim to evaluate and address potential gender-based disparities in the income prediction task."
   ]
  },
  {
   "cell_type": "code",
   "execution_count": 3,
   "metadata": {
    "id": "PtX2hGMuqhFI"
   },
   "outputs": [
    {
     "name": "stdout",
     "output_type": "stream",
     "text": [
      "\n",
      " converting the target-variable to binary:\n",
      "\n",
      "0        0\n",
      "1        0\n",
      "2        0\n",
      "3        0\n",
      "4        0\n",
      "        ..\n",
      "32556    0\n",
      "32557    1\n",
      "32558    0\n",
      "32559    0\n",
      "32560    1\n",
      "Name: target_income, Length: 32561, dtype: int64\n",
      "\n",
      " shape before adding dummies\n",
      "\n",
      "(32561, 15)\n",
      "\n",
      " creating dummy variables using get_dummies:\n",
      "\n",
      "Index(['age', 'fnlwgt', 'education-num', 'capital-gain', 'capital-loss',\n",
      "       'hours-per-week', 'target_income', 'workclass_Federal-gov',\n",
      "       'workclass_Local-gov', 'workclass_Never-worked',\n",
      "       ...\n",
      "       'native-country_Portugal', 'native-country_Puerto-Rico',\n",
      "       'native-country_Scotland', 'native-country_South',\n",
      "       'native-country_Taiwan', 'native-country_Thailand',\n",
      "       'native-country_Trinadad&Tobago', 'native-country_United-States',\n",
      "       'native-country_Vietnam', 'native-country_Yugoslavia'],\n",
      "      dtype='object', length=106)\n",
      "\n",
      "shape after adding dummies\n",
      "(32561, 106)\n"
     ]
    }
   ],
   "source": [
    "data.columns = ['age', 'workclass', 'fnlwgt', 'education', 'education-num', \n",
    "                'marital-status', 'occupation', 'relationship', 'race', 'protected_sex', 'capital-gain', \n",
    "                'capital-loss', 'hours-per-week', 'native-country', 'target_income']\n",
    "\n",
    "\n",
    "data['target_income'] = (data['target_income'] == '>50K').astype(int)\n",
    "print('\\n converting the target-variable to binary:\\n')\n",
    "print(data['target_income'])\n",
    "\n",
    "print('\\n shape before adding dummies\\n')\n",
    "print(data.shape)\n",
    "\n",
    "data = pd.get_dummies(data, columns=['workclass', 'education','marital-status', 'occupation', 'relationship', \n",
    "                                     'race','protected_sex','native-country'], drop_first=False)\n",
    "print('\\n creating dummy variables using get_dummies:\\n')\n",
    "print(data.columns)\n",
    "\n",
    "print('\\nshape after adding dummies')\n",
    "print(data.shape)"
   ]
  },
  {
   "cell_type": "markdown",
   "metadata": {
    "id": "5AJEeLM3qhFI"
   },
   "source": [
    "#### Build a Classifier (5 points)\n",
    "\n",
    "4\\. Select a type of classifier to build for the income prediction task. Give reasoning for why you picked this type. (1 point)"
   ]
  },
  {
   "cell_type": "markdown",
   "metadata": {
    "id": "xafdEVUhqhFI"
   },
   "source": [
    "The **Random Forest Classifier** is a fitting choice for the income prediction task due to several compelling reasons:\n",
    "\n",
    "**Ensemble Advantage:** Random Forest operates as an ensemble method, constructing multiple decision trees and amalgamating their predictions. This ensemble approach enhances accuracy and stability, mitigating issues associated with overfitting.\n",
    "\n",
    "**Insightful Feature Importance:** An inherent feature of Random Forest is its ability to furnish feature importance scores. This attribute is instrumental in deciphering the relative contributions of different features, facilitating a deeper understanding of the factors influencing income prediction.\n",
    "\n",
    "**Non-Linear Relationship Handling:** In scenarios where the association between predictors and the target variable is intricate and non-linear, Random Forest excels. Its capacity to capture complex relationships and interactions makes it well-suited for tasks with nuanced dependencies.\n",
    "\n",
    "**Robustness Against Overfitting:** Compared to individual decision trees, Random Forest exhibits resilience against overfitting. This characteristic enhances the model's capacity to generalize well to new, unseen data.\n",
    "\n",
    "**Adaptability to Mixed Data Types:** Random Forest demonstrates proficiency in managing datasets encompassing both numerical and categorical features. This versatility eliminates the need for extensive preprocessing, simplifying the handling of diverse attribute types.\n",
    "\n",
    "**Versatile Application:** Beyond its classification capabilities, Random Forest is versatile enough to extend to regression tasks as well. Given that the income prediction task involves binary classification (<=50K or >50K), the algorithm aligns seamlessly with the nature of the problem.\n",
    "\n",
    "\n",
    "**Why it suits our dataset?**\n",
    "\n",
    "The \"Adult.data\" dataset, sourced from the United States census, exhibits a diverse mix of features encompassing both numerical and categorical attributes. Notably, categorical features like 'workclass,' 'marital-status,' and 'occupation' are prevalent. The Random Forest Classifier proves advantageous in this context as it adeptly handles mixed data types, efficiently accommodating both numerical and categorical variables without necessitating extensive preprocessing. Moreover, the dataset's complexity, marked by intricate interactions among socio-economic factors, aligns with Random Forest's strength in capturing non-linear relationships. The classifier's ability to provide feature importance scores is particularly beneficial in unraveling the significant contributors to income prediction, offering valuable insights into the demographic and occupational drivers of financial outcomes. Overall, the Random Forest Classifier emerges as a fitting choice for the \"Adult.data\" dataset, given its versatility in managing diverse attribute types and its capacity to handle the nuanced dynamics inherent in income prediction tasks.\n",
    "\n"
   ]
  },
  {
   "cell_type": "markdown",
   "metadata": {
    "id": "Ug-z4UtsqhFI"
   },
   "source": [
    "5\\. Split the data into training and testing. Use pandas to create two data frames: train_df and test_df, where train_df has 80% of the data chosen uniformly at random without replacement (test_df should have the other 20%). Also, make sure to write your own code to do the splits. You may use any random() function numpy but do not use the data splitting functions from Sklearn. (1 point)\n"
   ]
  },
  {
   "cell_type": "code",
   "execution_count": 4,
   "metadata": {
    "id": "57Gvo-CLqhFI"
   },
   "outputs": [
    {
     "name": "stdout",
     "output_type": "stream",
     "text": [
      "Training set shape: (26048, 106)\n",
      "Testing set shape: (6513, 106)\n"
     ]
    }
   ],
   "source": [
    "import pandas as pd\n",
    "import numpy as np\n",
    "\n",
    "num_rows_train = int(0.8 * len(data))\n",
    "train_indices = np.random.choice(data.index, size=num_rows_train, replace=False)\n",
    "train_df = data.loc[train_indices]\n",
    "test_df = data.drop(train_indices)\n",
    "\n",
    "print(\"Training set shape:\", train_df.shape)\n",
    "print(\"Testing set shape:\", test_df.shape)\n"
   ]
  },
  {
   "cell_type": "markdown",
   "metadata": {
    "id": "FDo8HGSVqhFJ"
   },
   "source": [
    "6\\. On the training set, implement your classifier. Give reasoning for your choice of any hyperparameter(s). (1 point)"
   ]
  },
  {
   "cell_type": "code",
   "execution_count": 5,
   "metadata": {
    "id": "35vizJXbqhFJ"
   },
   "outputs": [
    {
     "data": {
      "text/html": [
       "<style>#sk-container-id-1 {color: black;background-color: white;}#sk-container-id-1 pre{padding: 0;}#sk-container-id-1 div.sk-toggleable {background-color: white;}#sk-container-id-1 label.sk-toggleable__label {cursor: pointer;display: block;width: 100%;margin-bottom: 0;padding: 0.3em;box-sizing: border-box;text-align: center;}#sk-container-id-1 label.sk-toggleable__label-arrow:before {content: \"▸\";float: left;margin-right: 0.25em;color: #696969;}#sk-container-id-1 label.sk-toggleable__label-arrow:hover:before {color: black;}#sk-container-id-1 div.sk-estimator:hover label.sk-toggleable__label-arrow:before {color: black;}#sk-container-id-1 div.sk-toggleable__content {max-height: 0;max-width: 0;overflow: hidden;text-align: left;background-color: #f0f8ff;}#sk-container-id-1 div.sk-toggleable__content pre {margin: 0.2em;color: black;border-radius: 0.25em;background-color: #f0f8ff;}#sk-container-id-1 input.sk-toggleable__control:checked~div.sk-toggleable__content {max-height: 200px;max-width: 100%;overflow: auto;}#sk-container-id-1 input.sk-toggleable__control:checked~label.sk-toggleable__label-arrow:before {content: \"▾\";}#sk-container-id-1 div.sk-estimator input.sk-toggleable__control:checked~label.sk-toggleable__label {background-color: #d4ebff;}#sk-container-id-1 div.sk-label input.sk-toggleable__control:checked~label.sk-toggleable__label {background-color: #d4ebff;}#sk-container-id-1 input.sk-hidden--visually {border: 0;clip: rect(1px 1px 1px 1px);clip: rect(1px, 1px, 1px, 1px);height: 1px;margin: -1px;overflow: hidden;padding: 0;position: absolute;width: 1px;}#sk-container-id-1 div.sk-estimator {font-family: monospace;background-color: #f0f8ff;border: 1px dotted black;border-radius: 0.25em;box-sizing: border-box;margin-bottom: 0.5em;}#sk-container-id-1 div.sk-estimator:hover {background-color: #d4ebff;}#sk-container-id-1 div.sk-parallel-item::after {content: \"\";width: 100%;border-bottom: 1px solid gray;flex-grow: 1;}#sk-container-id-1 div.sk-label:hover label.sk-toggleable__label {background-color: #d4ebff;}#sk-container-id-1 div.sk-serial::before {content: \"\";position: absolute;border-left: 1px solid gray;box-sizing: border-box;top: 0;bottom: 0;left: 50%;z-index: 0;}#sk-container-id-1 div.sk-serial {display: flex;flex-direction: column;align-items: center;background-color: white;padding-right: 0.2em;padding-left: 0.2em;position: relative;}#sk-container-id-1 div.sk-item {position: relative;z-index: 1;}#sk-container-id-1 div.sk-parallel {display: flex;align-items: stretch;justify-content: center;background-color: white;position: relative;}#sk-container-id-1 div.sk-item::before, #sk-container-id-1 div.sk-parallel-item::before {content: \"\";position: absolute;border-left: 1px solid gray;box-sizing: border-box;top: 0;bottom: 0;left: 50%;z-index: -1;}#sk-container-id-1 div.sk-parallel-item {display: flex;flex-direction: column;z-index: 1;position: relative;background-color: white;}#sk-container-id-1 div.sk-parallel-item:first-child::after {align-self: flex-end;width: 50%;}#sk-container-id-1 div.sk-parallel-item:last-child::after {align-self: flex-start;width: 50%;}#sk-container-id-1 div.sk-parallel-item:only-child::after {width: 0;}#sk-container-id-1 div.sk-dashed-wrapped {border: 1px dashed gray;margin: 0 0.4em 0.5em 0.4em;box-sizing: border-box;padding-bottom: 0.4em;background-color: white;}#sk-container-id-1 div.sk-label label {font-family: monospace;font-weight: bold;display: inline-block;line-height: 1.2em;}#sk-container-id-1 div.sk-label-container {text-align: center;}#sk-container-id-1 div.sk-container {/* jupyter's `normalize.less` sets `[hidden] { display: none; }` but bootstrap.min.css set `[hidden] { display: none !important; }` so we also need the `!important` here to be able to override the default hidden behavior on the sphinx rendered scikit-learn.org. See: https://github.com/scikit-learn/scikit-learn/issues/21755 */display: inline-block !important;position: relative;}#sk-container-id-1 div.sk-text-repr-fallback {display: none;}</style><div id=\"sk-container-id-1\" class=\"sk-top-container\"><div class=\"sk-text-repr-fallback\"><pre>RandomForestClassifier(max_depth=10, random_state=42)</pre><b>In a Jupyter environment, please rerun this cell to show the HTML representation or trust the notebook. <br />On GitHub, the HTML representation is unable to render, please try loading this page with nbviewer.org.</b></div><div class=\"sk-container\" hidden><div class=\"sk-item\"><div class=\"sk-estimator sk-toggleable\"><input class=\"sk-toggleable__control sk-hidden--visually\" id=\"sk-estimator-id-1\" type=\"checkbox\" checked><label for=\"sk-estimator-id-1\" class=\"sk-toggleable__label sk-toggleable__label-arrow\">RandomForestClassifier</label><div class=\"sk-toggleable__content\"><pre>RandomForestClassifier(max_depth=10, random_state=42)</pre></div></div></div></div></div>"
      ],
      "text/plain": [
       "RandomForestClassifier(max_depth=10, random_state=42)"
      ]
     },
     "execution_count": 5,
     "metadata": {},
     "output_type": "execute_result"
    }
   ],
   "source": [
    "from sklearn.ensemble import RandomForestClassifier\n",
    "\n",
    "X_train = train_df.drop('target_income', axis=1)  # Features\n",
    "y_train = train_df['target_income']  # Target variable\n",
    "\n",
    "rf_classifier = RandomForestClassifier(\n",
    "    n_estimators=100,\n",
    "    max_depth=10,\n",
    "    min_samples_split=2,\n",
    "    min_samples_leaf=1,\n",
    "    random_state=42\n",
    ")\n",
    "\n",
    "rf_classifier.fit(X_train, y_train)"
   ]
  },
  {
   "cell_type": "markdown",
   "metadata": {},
   "source": [
    "For the Random Forest Classifier, there are several hyperparameters that can significantly impact its performance. The choice of hyperparameters depends on the characteristics of the dataset and the specific goals of the modeling task. Here, I'll provide reasoning for a few key hyperparameters and their values:\n",
    "\n",
    "**n_estimators:** This hyperparameter determines the number of decision trees in the forest. A higher number generally leads to better performance, but it comes with increased computational cost. I'll choose a reasonable value, such as 100, to balance accuracy and computational efficiency.\n",
    "\n",
    "**max_depth:** The maximum depth of each decision tree. A deeper tree can capture more complex relationships but may lead to overfitting. I'll choose a moderate value, like 10, to prevent excessive depth and promote generalization.\n",
    "\n",
    "**min_samples_split:** The minimum number of samples required to split an internal node. Setting this parameter helps control the growth of the tree and prevents splitting nodes with too few samples. I'll choose a value of 2, allowing splits for nodes with at least two samples.\n",
    "\n",
    "**min_samples_leaf:** The minimum number of samples required to be at a leaf node. This parameter helps control overfitting by ensuring that each leaf has a minimum number of samples. I'll set it to 1, allowing individual samples in a leaf.\n",
    "\n",
    "**random_state:** This is not a model-specific hyperparameter, but setting a random seed ensures reproducibility. By using a fixed random_state, the model will produce the same results on each run, making it easier to compare and interpret."
   ]
  },
  {
   "cell_type": "markdown",
   "metadata": {
    "id": "ETsYTrEAqhFJ"
   },
   "source": [
    "7\\. To demonstrate the performance of your classifier, we will now plot the AUROC. Below are two functions which you can use. What you need to add is code to plot the AUROC for all the data and as well for each value of the protected attribute (on one set of axes). (2 points)"
   ]
  },
  {
   "cell_type": "code",
   "execution_count": 6,
   "metadata": {
    "id": "o0I8dyzaqhFJ"
   },
   "outputs": [
    {
     "data": {
      "image/png": "[encoded data removed]",
      "text/plain": [
       "<Figure size 640x480 with 1 Axes>"
      ]
     },
     "metadata": {},
     "output_type": "display_data"
    }
   ],
   "source": [
    "#Code for computing the AUCROC\n",
    "\n",
    "from sklearn.metrics import roc_auc_score, roc_curve, auc\n",
    "import numpy as np\n",
    "import matplotlib.pyplot as plt\n",
    "\n",
    "y_true = test_df['target_income']\n",
    "y_pred = rf_classifier.predict_proba(test_df.drop('target_income', axis=1))[:, 1]\n",
    "\n",
    "\n",
    "def getAUC(truth, pred):\n",
    "    fpr, tpr, thresholds = roc_curve(truth, pred)\n",
    "    return auc(fpr, tpr)\n",
    "\n",
    "\n",
    "def plotAUC(truth, pred, lab):\n",
    "    fpr, tpr, thresholds = roc_curve(truth, pred)\n",
    "    roc_auc = auc(fpr, tpr)\n",
    "    c = (np.random.rand(), np.random.rand(), np.random.rand())\n",
    "    plt.plot(fpr, tpr, color=c, label= lab+' (AUC = %0.2f)' % roc_auc)\n",
    "    plt.plot([0, 1], [0, 1], 'k--')\n",
    "    plt.xlim([0.0, 1.0])\n",
    "    plt.ylim([0.0, 1.0])\n",
    "    plt.xlabel('FPR')\n",
    "    plt.ylabel('TPR')\n",
    "    plt.title('ROC')\n",
    "    plt.legend(loc=\"lower right\")\n",
    "    \n",
    "\n",
    "protected_columns = ['protected_sex_Male', 'protected_sex_Female']\n",
    "\n",
    "#segregation/subsets\n",
    "protected_predictions = {}\n",
    "for col in protected_columns:\n",
    "    y_pred_protected = rf_classifier.predict_proba(test_df.loc[test_df[col] == 1].drop('target_income', axis=1))[:, 1]\n",
    "    protected_predictions[col] = y_pred_protected\n",
    "\n",
    "#AUC-ROC for all data\n",
    "plotAUC(y_true, y_pred, 'All Data')\n",
    "\n",
    "#AUC-ROC for protected_preds\n",
    "for col, pred in protected_predictions.items():\n",
    "    plotAUC(y_true[test_df[col] == 1], pred, col)\n",
    "\n",
    "plt.show()"
   ]
  },
  {
   "cell_type": "markdown",
   "metadata": {
    "id": "0AzRqWq0qhFJ"
   },
   "source": [
    "#### Assessing algorithmic fairness (5 points)\n",
    "\n",
    "8\\. Algorithmic Fairness metrics (2 points)\n",
    "\n",
    "Pick a fairness metric to apply to the income prediction task and your selected protected attribute. Explain why you selected this metric."
   ]
  },
  {
   "cell_type": "markdown",
   "metadata": {
    "id": "bV-xH4L-qhFJ"
   },
   "source": [
    "I've opted for the fairness metric **Equalized Odds** in assessing the income prediction task concerning the protected attribute \"protected_sex,\" assuming it signifies gender. \n",
    "\n",
    "Here's the rationale:\n",
    "\n",
    "**Equal Treatment:** My choice of Equalized Odds stems from the principle of treating individuals across diverse protected groups with parity. It ensures that the model's performance remains balanced across these groups, mitigating potential biases and fostering fairness in prediction outcomes.\n",
    "\n",
    "**Real-world Impact:** In the context of predicting income, achieving Equalized Odds is of paramount importance. It guarantees that the model extends comparable opportunities and advantages to individuals regardless of their gender. Disparities in true positive and false positive rates for different genders could lead to unjust consequences, making this metric crucial for minimizing discriminatory impacts.\n",
    "\n",
    "**Practical Considerations:** I find Equalized Odds to be relatively straightforward and easy to convey to stakeholders. Its emphasis on balancing predictive performance across groups makes it a pragmatic choice for addressing fairness concerns in binary classification tasks.\n",
    "\n",
    "**Evaluation of Model Impact:** Utilizing Equalized Odds allows me to gauge the model's impact on different gender groups by considering both false positives (misclassifying someone as earning more when they don't) and false negatives (misclassifying someone as earning less when they earn more). Attaining equalized odds indicates a fair distribution of errors among different groups, contributing to a more equitable predictive model."
   ]
  },
  {
   "cell_type": "markdown",
   "metadata": {
    "id": "dPo8FVm7qhFJ"
   },
   "source": [
    "9\\. Compute the chosen metric for your protected attribute. Hint: this will require you to first find the threshold wiith the best when predicting on the entire data, and then computing the TPR/FPR or other necessary parameters at that threshold for each value of the protected attribute. (2 points)\n",
    "\n",
    "There are many ways we could locate the threshold with the optimal balance between the false positive rate (FPR) and true positive rate (TPR).\n",
    "\n",
    "As a reminder, the TPR is called the Sensitivity. The inverse of the false-positive rate (1-FPR) is called the Specificity.\n",
    "\n",
    "<center>Sensitivity = $\\frac{TP}{TP + FN}$\n",
    "Specificity = $\\frac{TN}{FP + TN}$</center>\n",
    "\n",
    "where:\n",
    "\n",
    "<center>Sensitivity = TPR and Specificity = 1 – FPR</center>\n",
    "\n",
    "The Geometric Mean or g-mean is a metric for imbalanced classification that, if optimized, will seek a balance between the sensitivity and the specificity.\n",
    "\n",
    "<center>g-mean = $\\sqrt{Sensitivity * Specificity}$ </center>\n",
    "\n"
   ]
  },
  {
   "cell_type": "code",
   "execution_count": 7,
   "metadata": {
    "id": "IFSSrIjvqhFK",
    "scrolled": true
   },
   "outputs": [
    {
     "name": "stdout",
     "output_type": "stream",
     "text": [
      "Equalized Odds Metrics for Protected Group:\n",
      "protected_sex_Male: 0.604625008358815\n",
      "protected_sex_Female: 0.7714605481500392\n",
      "\n",
      "Geometric Mean (g-mean) for Protected Group:\n",
      "protected_sex_Male: 0.8022041466955626\n",
      "protected_sex_Female: 0.885411733540344\n",
      "\n",
      "Sensitivity and Specificity for Protected Group:\n",
      "protected_sex_Male: {'Sensitivity': 0.8154981549815498, 'Specificity': 0.7891268533772653}\n",
      "protected_sex_Female: {'Sensitivity': 0.9094827586206896, 'Specificity': 0.8619777895293496}\n"
     ]
    }
   ],
   "source": [
    "from sklearn.metrics import roc_curve\n",
    "import numpy as np\n",
    "\n",
    "protected_attributes = ['protected_sex_Male', 'protected_sex_Female']\n",
    "equalized_odds_metrics = {}\n",
    "g_means = {}\n",
    "sensitivity_specificity = {}\n",
    "\n",
    "for protected_attribute_column in protected_attributes:\n",
    "    protected_rows = test_df[test_df[protected_attribute_column] == 1]\n",
    "    y_true_protected = protected_rows['target_income']\n",
    "    y_pred_probs_protected = rf_classifier.predict_proba(protected_rows.drop('target_income', axis=1))[:, 1]\n",
    "\n",
    "    fpr_protected, tpr_protected, thresholds_protected = roc_curve(y_true_protected, y_pred_probs_protected)\n",
    "\n",
    "    optimal_threshold_protected = thresholds_protected[np.argmax(tpr_protected - fpr_protected)]\n",
    "    y_pred_labels_protected = (y_pred_probs_protected >= optimal_threshold_protected).astype(int)\n",
    "    tp_protected = np.sum((y_pred_labels_protected == 1) & (y_true_protected == 1))\n",
    "    fn_protected = np.sum((y_pred_labels_protected == 0) & (y_true_protected == 1))\n",
    "    tn_protected = np.sum((y_pred_labels_protected == 0) & (y_true_protected == 0))\n",
    "    fp_protected = np.sum((y_pred_labels_protected == 1) & (y_true_protected == 0))\n",
    "    sensitivity_protected = tp_protected / (tp_protected + fn_protected)\n",
    "    specificity_protected = tn_protected / (fp_protected + tn_protected)\n",
    "    equalized_odds_metric_protected = sensitivity_protected - (1 - specificity_protected)\n",
    "    g_mean_protected = (sensitivity_protected * specificity_protected)**0.5\n",
    "    equalized_odds_metrics[protected_attribute_column] = equalized_odds_metric_protected\n",
    "    g_means[protected_attribute_column] = g_mean_protected\n",
    "    sensitivity_specificity[protected_attribute_column] = {\n",
    "        'Sensitivity': sensitivity_protected,\n",
    "        'Specificity': specificity_protected\n",
    "    }\n",
    "\n",
    "\n",
    "print(\"Equalized Odds Metrics for Protected Group:\")\n",
    "for col, metric in equalized_odds_metrics.items():\n",
    "    print(f\"{col}: {metric}\")\n",
    "\n",
    "print(\"\\nGeometric Mean (g-mean) for Protected Group:\")\n",
    "for col, g_mean_value in g_means.items():\n",
    "    print(f\"{col}: {g_mean_value}\")\n",
    "\n",
    "print(\"\\nSensitivity and Specificity for Protected Group:\")\n",
    "for col, metrics in sensitivity_specificity.items():\n",
    "    print(f\"{col}: {metrics}\")\n"
   ]
  },
  {
   "cell_type": "markdown",
   "metadata": {},
   "source": [
    "**Analysis** \n",
    "\n",
    "**Equalized Odds Metrics for Protected Group:**\n",
    "\n",
    "protected_sex_Male: The Equalized Odds Metric for males is approximately 0.6046, suggesting a moderate balance in the model's treatment of true positive and false positive rates for males.\n",
    "\n",
    "protected_sex_Female: The Equalized Odds Metric for females is around 0.7715, indicating a more favorable balance in the model's performance between true positives and false positives for females.\n",
    "\n",
    "**Geometric Mean (g-mean) for Protected Group:**\n",
    "\n",
    "protected_sex_Male: The Geometric Mean for males is about 0.8022, reflecting a well-balanced performance for predicting income among males, considering both sensitivity and specificity.\n",
    "\n",
    "protected_sex_Female: The Geometric Mean for females is approximately 0.8854, suggesting an even better overall balance in the model's performance for predicting income among females.\n",
    "\n",
    "**Sensitivity and Specificity for Protected Group:**\n",
    "\n",
    "protected_sex_Male:\n",
    "\n",
    "Sensitivity (True Positive Rate): 0.8155 - The model correctly identifies about 81.6% of males with higher incomes.\n",
    "Specificity (True Negative Rate): 0.7891 - The model accurately identifies approximately 78.9% of males with lower incomes.\n",
    "\n",
    "protected_sex_Female:\n",
    "\n",
    "Sensitivity (True Positive Rate): 0.9095 - The model performs exceptionally well, correctly identifying about 90.9% of females with higher incomes.\n",
    "Specificity (True Negative Rate): 0.8620 - It also accurately identifies around 86.2% of females with lower incomes."
   ]
  },
  {
   "cell_type": "markdown",
   "metadata": {
    "id": "YpHbXceVqhFK"
   },
   "source": [
    "10\\. Is there a disparity? How can we interpret its magnitude? Is such a disparity a bad thing/avoidable? (1 point)"
   ]
  },
  {
   "cell_type": "markdown",
   "metadata": {
    "id": "rY0-cGaIqhFL"
   },
   "source": [
    "**Assessing Disparity:**\n",
    "\n",
    "The presence of a disparity is evident in the variations across protected groups observed in our fairness metrics. This indicates differences in the model's performance for distinct segments of the population.\n",
    "\n",
    "Equalized Odds Metric:\n",
    "\n",
    "The calculated disparity in Equalized Odds between 'protected_sex_Male' (0.6046) and 'protected_sex_Female' (0.7715) is 0.1669, pointing to a notable difference in how the model treats these gender groups. A higher value signifies a more significant divergence in treatment.\n",
    "\n",
    "Geometric Mean (g-mean):\n",
    "\n",
    "The calculated disparity in g-mean between 'protected_sex_Male' (0.8022) and 'protected_sex_Female' (0.8854) is 0.0832. This indicates a moderate difference in the overall balance of the model's performance between the two groups.\n",
    "Sensitivity and Specificity:\n",
    "\n",
    "The sensitivity and specificity values for each gender group further highlight disparities. For example, 'protected_sex_Male' exhibits sensitivity (0.8155) and specificity (0.7891), while 'protected_sex_Female' shows sensitivity (0.9095) and specificity (0.8620). The differences in these values suggest variations in the model's performance between the protected groups.\n",
    "\n",
    "**Interpretation and Context if its bad & can it be avoided:**\n",
    "\n",
    "Having disparities in model predictions is generally bad, as indicated by these metrics, and are generally considered less than ideal, as they may imply biases or imbalances. Whether a disparity is deemed \"bad\" or \"avoidable\" depends on the specific context and ethical considerations. While complete elimination of disparities is an ideal goal, it may not always be feasible or desirable, especially if there are genuine differences in the underlying data distribution. Striking a balance between fairness and other crucial aspects of model performance is essential. The goal is to minimize disparities to the extent possible without compromising other important considerations."
   ]
  }
 ],
 "metadata": {
  "colab": {
   "provenance": []
  },
  "kernelspec": {
   "display_name": "Python 3 (ipykernel)",
   "language": "python",
   "name": "python3"
  },
  "language_info": {
   "codemirror_mode": {
    "name": "ipython",
    "version": 3
   },
   "file_extension": ".py",
   "mimetype": "text/x-python",
   "name": "python",
   "nbconvert_exporter": "python",
   "pygments_lexer": "ipython3",
   "version": "3.10.9"
  }
 },
 "nbformat": 4,
 "nbformat_minor": 1
}
